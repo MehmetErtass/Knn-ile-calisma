{
 "cells": [
  {
   "cell_type": "code",
   "execution_count": 1,
   "id": "ca58c7a8",
   "metadata": {},
   "outputs": [],
   "source": [
    "import seaborn as sns"
   ]
  },
  {
   "cell_type": "code",
   "execution_count": 2,
   "id": "bf249d69",
   "metadata": {},
   "outputs": [],
   "source": [
    "tips = sns.load_dataset(\"tips\")\n",
    "df = tips.copy()"
   ]
  },
  {
   "cell_type": "code",
   "execution_count": 3,
   "id": "6b6d3a08",
   "metadata": {},
   "outputs": [
    {
     "data": {
      "text/html": [
       "<div>\n",
       "<style scoped>\n",
       "    .dataframe tbody tr th:only-of-type {\n",
       "        vertical-align: middle;\n",
       "    }\n",
       "\n",
       "    .dataframe tbody tr th {\n",
       "        vertical-align: top;\n",
       "    }\n",
       "\n",
       "    .dataframe thead th {\n",
       "        text-align: right;\n",
       "    }\n",
       "</style>\n",
       "<table border=\"1\" class=\"dataframe\">\n",
       "  <thead>\n",
       "    <tr style=\"text-align: right;\">\n",
       "      <th></th>\n",
       "      <th>total_bill</th>\n",
       "      <th>tip</th>\n",
       "      <th>sex</th>\n",
       "      <th>smoker</th>\n",
       "      <th>day</th>\n",
       "      <th>time</th>\n",
       "      <th>size</th>\n",
       "    </tr>\n",
       "  </thead>\n",
       "  <tbody>\n",
       "    <tr>\n",
       "      <th>0</th>\n",
       "      <td>16.99</td>\n",
       "      <td>1.01</td>\n",
       "      <td>Female</td>\n",
       "      <td>No</td>\n",
       "      <td>Sun</td>\n",
       "      <td>Dinner</td>\n",
       "      <td>2</td>\n",
       "    </tr>\n",
       "    <tr>\n",
       "      <th>1</th>\n",
       "      <td>10.34</td>\n",
       "      <td>1.66</td>\n",
       "      <td>Male</td>\n",
       "      <td>No</td>\n",
       "      <td>Sun</td>\n",
       "      <td>Dinner</td>\n",
       "      <td>3</td>\n",
       "    </tr>\n",
       "    <tr>\n",
       "      <th>2</th>\n",
       "      <td>21.01</td>\n",
       "      <td>3.50</td>\n",
       "      <td>Male</td>\n",
       "      <td>No</td>\n",
       "      <td>Sun</td>\n",
       "      <td>Dinner</td>\n",
       "      <td>3</td>\n",
       "    </tr>\n",
       "    <tr>\n",
       "      <th>3</th>\n",
       "      <td>23.68</td>\n",
       "      <td>3.31</td>\n",
       "      <td>Male</td>\n",
       "      <td>No</td>\n",
       "      <td>Sun</td>\n",
       "      <td>Dinner</td>\n",
       "      <td>2</td>\n",
       "    </tr>\n",
       "    <tr>\n",
       "      <th>4</th>\n",
       "      <td>24.59</td>\n",
       "      <td>3.61</td>\n",
       "      <td>Female</td>\n",
       "      <td>No</td>\n",
       "      <td>Sun</td>\n",
       "      <td>Dinner</td>\n",
       "      <td>4</td>\n",
       "    </tr>\n",
       "  </tbody>\n",
       "</table>\n",
       "</div>"
      ],
      "text/plain": [
       "   total_bill   tip     sex smoker  day    time  size\n",
       "0       16.99  1.01  Female     No  Sun  Dinner     2\n",
       "1       10.34  1.66    Male     No  Sun  Dinner     3\n",
       "2       21.01  3.50    Male     No  Sun  Dinner     3\n",
       "3       23.68  3.31    Male     No  Sun  Dinner     2\n",
       "4       24.59  3.61  Female     No  Sun  Dinner     4"
      ]
     },
     "execution_count": 3,
     "metadata": {},
     "output_type": "execute_result"
    }
   ],
   "source": [
    "df.head()"
   ]
  },
  {
   "cell_type": "code",
   "execution_count": 4,
   "id": "15379631",
   "metadata": {},
   "outputs": [
    {
     "name": "stdout",
     "output_type": "stream",
     "text": [
      "<class 'pandas.core.frame.DataFrame'>\n",
      "RangeIndex: 244 entries, 0 to 243\n",
      "Data columns (total 7 columns):\n",
      " #   Column      Non-Null Count  Dtype   \n",
      "---  ------      --------------  -----   \n",
      " 0   total_bill  244 non-null    float64 \n",
      " 1   tip         244 non-null    float64 \n",
      " 2   sex         244 non-null    category\n",
      " 3   smoker      244 non-null    category\n",
      " 4   day         244 non-null    category\n",
      " 5   time        244 non-null    category\n",
      " 6   size        244 non-null    int64   \n",
      "dtypes: category(4), float64(2), int64(1)\n",
      "memory usage: 7.4 KB\n"
     ]
    }
   ],
   "source": [
    "df.info()"
   ]
  },
  {
   "cell_type": "code",
   "execution_count": 5,
   "id": "f8f1555b",
   "metadata": {},
   "outputs": [
    {
     "data": {
      "text/html": [
       "<div>\n",
       "<style scoped>\n",
       "    .dataframe tbody tr th:only-of-type {\n",
       "        vertical-align: middle;\n",
       "    }\n",
       "\n",
       "    .dataframe tbody tr th {\n",
       "        vertical-align: top;\n",
       "    }\n",
       "\n",
       "    .dataframe thead th {\n",
       "        text-align: right;\n",
       "    }\n",
       "</style>\n",
       "<table border=\"1\" class=\"dataframe\">\n",
       "  <thead>\n",
       "    <tr style=\"text-align: right;\">\n",
       "      <th></th>\n",
       "      <th>count</th>\n",
       "      <th>mean</th>\n",
       "      <th>std</th>\n",
       "      <th>min</th>\n",
       "      <th>25%</th>\n",
       "      <th>50%</th>\n",
       "      <th>75%</th>\n",
       "      <th>max</th>\n",
       "    </tr>\n",
       "  </thead>\n",
       "  <tbody>\n",
       "    <tr>\n",
       "      <th>total_bill</th>\n",
       "      <td>244.0</td>\n",
       "      <td>19.785943</td>\n",
       "      <td>8.902412</td>\n",
       "      <td>3.07</td>\n",
       "      <td>13.3475</td>\n",
       "      <td>17.795</td>\n",
       "      <td>24.1275</td>\n",
       "      <td>50.81</td>\n",
       "    </tr>\n",
       "    <tr>\n",
       "      <th>tip</th>\n",
       "      <td>244.0</td>\n",
       "      <td>2.998279</td>\n",
       "      <td>1.383638</td>\n",
       "      <td>1.00</td>\n",
       "      <td>2.0000</td>\n",
       "      <td>2.900</td>\n",
       "      <td>3.5625</td>\n",
       "      <td>10.00</td>\n",
       "    </tr>\n",
       "    <tr>\n",
       "      <th>size</th>\n",
       "      <td>244.0</td>\n",
       "      <td>2.569672</td>\n",
       "      <td>0.951100</td>\n",
       "      <td>1.00</td>\n",
       "      <td>2.0000</td>\n",
       "      <td>2.000</td>\n",
       "      <td>3.0000</td>\n",
       "      <td>6.00</td>\n",
       "    </tr>\n",
       "  </tbody>\n",
       "</table>\n",
       "</div>"
      ],
      "text/plain": [
       "            count       mean       std   min      25%     50%      75%    max\n",
       "total_bill  244.0  19.785943  8.902412  3.07  13.3475  17.795  24.1275  50.81\n",
       "tip         244.0   2.998279  1.383638  1.00   2.0000   2.900   3.5625  10.00\n",
       "size        244.0   2.569672  0.951100  1.00   2.0000   2.000   3.0000   6.00"
      ]
     },
     "execution_count": 5,
     "metadata": {},
     "output_type": "execute_result"
    }
   ],
   "source": [
    "df.describe().T"
   ]
  },
  {
   "cell_type": "code",
   "execution_count": 6,
   "id": "0f9f6458",
   "metadata": {},
   "outputs": [
    {
     "data": {
      "text/html": [
       "<div>\n",
       "<style scoped>\n",
       "    .dataframe tbody tr th:only-of-type {\n",
       "        vertical-align: middle;\n",
       "    }\n",
       "\n",
       "    .dataframe tbody tr th {\n",
       "        vertical-align: top;\n",
       "    }\n",
       "\n",
       "    .dataframe thead th {\n",
       "        text-align: right;\n",
       "    }\n",
       "</style>\n",
       "<table border=\"1\" class=\"dataframe\">\n",
       "  <thead>\n",
       "    <tr style=\"text-align: right;\">\n",
       "      <th></th>\n",
       "      <th>total_bill</th>\n",
       "      <th>tip</th>\n",
       "      <th>size</th>\n",
       "    </tr>\n",
       "  </thead>\n",
       "  <tbody>\n",
       "    <tr>\n",
       "      <th>count</th>\n",
       "      <td>244.000000</td>\n",
       "      <td>244.000000</td>\n",
       "      <td>244.000000</td>\n",
       "    </tr>\n",
       "    <tr>\n",
       "      <th>mean</th>\n",
       "      <td>19.785943</td>\n",
       "      <td>2.998279</td>\n",
       "      <td>2.569672</td>\n",
       "    </tr>\n",
       "    <tr>\n",
       "      <th>std</th>\n",
       "      <td>8.902412</td>\n",
       "      <td>1.383638</td>\n",
       "      <td>0.951100</td>\n",
       "    </tr>\n",
       "    <tr>\n",
       "      <th>min</th>\n",
       "      <td>3.070000</td>\n",
       "      <td>1.000000</td>\n",
       "      <td>1.000000</td>\n",
       "    </tr>\n",
       "    <tr>\n",
       "      <th>25%</th>\n",
       "      <td>13.347500</td>\n",
       "      <td>2.000000</td>\n",
       "      <td>2.000000</td>\n",
       "    </tr>\n",
       "    <tr>\n",
       "      <th>50%</th>\n",
       "      <td>17.795000</td>\n",
       "      <td>2.900000</td>\n",
       "      <td>2.000000</td>\n",
       "    </tr>\n",
       "    <tr>\n",
       "      <th>75%</th>\n",
       "      <td>24.127500</td>\n",
       "      <td>3.562500</td>\n",
       "      <td>3.000000</td>\n",
       "    </tr>\n",
       "    <tr>\n",
       "      <th>max</th>\n",
       "      <td>50.810000</td>\n",
       "      <td>10.000000</td>\n",
       "      <td>6.000000</td>\n",
       "    </tr>\n",
       "  </tbody>\n",
       "</table>\n",
       "</div>"
      ],
      "text/plain": [
       "       total_bill         tip        size\n",
       "count  244.000000  244.000000  244.000000\n",
       "mean    19.785943    2.998279    2.569672\n",
       "std      8.902412    1.383638    0.951100\n",
       "min      3.070000    1.000000    1.000000\n",
       "25%     13.347500    2.000000    2.000000\n",
       "50%     17.795000    2.900000    2.000000\n",
       "75%     24.127500    3.562500    3.000000\n",
       "max     50.810000   10.000000    6.000000"
      ]
     },
     "execution_count": 6,
     "metadata": {},
     "output_type": "execute_result"
    }
   ],
   "source": [
    "df.describe()"
   ]
  },
  {
   "cell_type": "markdown",
   "id": "91c27c86",
   "metadata": {},
   "source": [
    "# Sütün adları değiştirirme"
   ]
  },
  {
   "cell_type": "code",
   "execution_count": 7,
   "id": "9a3aeed9",
   "metadata": {},
   "outputs": [
    {
     "data": {
      "text/html": [
       "<div>\n",
       "<style scoped>\n",
       "    .dataframe tbody tr th:only-of-type {\n",
       "        vertical-align: middle;\n",
       "    }\n",
       "\n",
       "    .dataframe tbody tr th {\n",
       "        vertical-align: top;\n",
       "    }\n",
       "\n",
       "    .dataframe thead th {\n",
       "        text-align: right;\n",
       "    }\n",
       "</style>\n",
       "<table border=\"1\" class=\"dataframe\">\n",
       "  <thead>\n",
       "    <tr style=\"text-align: right;\">\n",
       "      <th></th>\n",
       "      <th>fiyat</th>\n",
       "      <th>bahşiş</th>\n",
       "      <th>cinsiyet</th>\n",
       "      <th>sigara</th>\n",
       "      <th>gün</th>\n",
       "      <th>zaman</th>\n",
       "      <th>kişiler</th>\n",
       "    </tr>\n",
       "  </thead>\n",
       "  <tbody>\n",
       "    <tr>\n",
       "      <th>0</th>\n",
       "      <td>16.99</td>\n",
       "      <td>1.01</td>\n",
       "      <td>Female</td>\n",
       "      <td>No</td>\n",
       "      <td>Sun</td>\n",
       "      <td>Dinner</td>\n",
       "      <td>2</td>\n",
       "    </tr>\n",
       "    <tr>\n",
       "      <th>1</th>\n",
       "      <td>10.34</td>\n",
       "      <td>1.66</td>\n",
       "      <td>Male</td>\n",
       "      <td>No</td>\n",
       "      <td>Sun</td>\n",
       "      <td>Dinner</td>\n",
       "      <td>3</td>\n",
       "    </tr>\n",
       "    <tr>\n",
       "      <th>2</th>\n",
       "      <td>21.01</td>\n",
       "      <td>3.50</td>\n",
       "      <td>Male</td>\n",
       "      <td>No</td>\n",
       "      <td>Sun</td>\n",
       "      <td>Dinner</td>\n",
       "      <td>3</td>\n",
       "    </tr>\n",
       "    <tr>\n",
       "      <th>3</th>\n",
       "      <td>23.68</td>\n",
       "      <td>3.31</td>\n",
       "      <td>Male</td>\n",
       "      <td>No</td>\n",
       "      <td>Sun</td>\n",
       "      <td>Dinner</td>\n",
       "      <td>2</td>\n",
       "    </tr>\n",
       "    <tr>\n",
       "      <th>4</th>\n",
       "      <td>24.59</td>\n",
       "      <td>3.61</td>\n",
       "      <td>Female</td>\n",
       "      <td>No</td>\n",
       "      <td>Sun</td>\n",
       "      <td>Dinner</td>\n",
       "      <td>4</td>\n",
       "    </tr>\n",
       "    <tr>\n",
       "      <th>...</th>\n",
       "      <td>...</td>\n",
       "      <td>...</td>\n",
       "      <td>...</td>\n",
       "      <td>...</td>\n",
       "      <td>...</td>\n",
       "      <td>...</td>\n",
       "      <td>...</td>\n",
       "    </tr>\n",
       "    <tr>\n",
       "      <th>239</th>\n",
       "      <td>29.03</td>\n",
       "      <td>5.92</td>\n",
       "      <td>Male</td>\n",
       "      <td>No</td>\n",
       "      <td>Sat</td>\n",
       "      <td>Dinner</td>\n",
       "      <td>3</td>\n",
       "    </tr>\n",
       "    <tr>\n",
       "      <th>240</th>\n",
       "      <td>27.18</td>\n",
       "      <td>2.00</td>\n",
       "      <td>Female</td>\n",
       "      <td>Yes</td>\n",
       "      <td>Sat</td>\n",
       "      <td>Dinner</td>\n",
       "      <td>2</td>\n",
       "    </tr>\n",
       "    <tr>\n",
       "      <th>241</th>\n",
       "      <td>22.67</td>\n",
       "      <td>2.00</td>\n",
       "      <td>Male</td>\n",
       "      <td>Yes</td>\n",
       "      <td>Sat</td>\n",
       "      <td>Dinner</td>\n",
       "      <td>2</td>\n",
       "    </tr>\n",
       "    <tr>\n",
       "      <th>242</th>\n",
       "      <td>17.82</td>\n",
       "      <td>1.75</td>\n",
       "      <td>Male</td>\n",
       "      <td>No</td>\n",
       "      <td>Sat</td>\n",
       "      <td>Dinner</td>\n",
       "      <td>2</td>\n",
       "    </tr>\n",
       "    <tr>\n",
       "      <th>243</th>\n",
       "      <td>18.78</td>\n",
       "      <td>3.00</td>\n",
       "      <td>Female</td>\n",
       "      <td>No</td>\n",
       "      <td>Thur</td>\n",
       "      <td>Dinner</td>\n",
       "      <td>2</td>\n",
       "    </tr>\n",
       "  </tbody>\n",
       "</table>\n",
       "<p>244 rows × 7 columns</p>\n",
       "</div>"
      ],
      "text/plain": [
       "     fiyat  bahşiş cinsiyet sigara   gün   zaman  kişiler\n",
       "0    16.99    1.01   Female     No   Sun  Dinner        2\n",
       "1    10.34    1.66     Male     No   Sun  Dinner        3\n",
       "2    21.01    3.50     Male     No   Sun  Dinner        3\n",
       "3    23.68    3.31     Male     No   Sun  Dinner        2\n",
       "4    24.59    3.61   Female     No   Sun  Dinner        4\n",
       "..     ...     ...      ...    ...   ...     ...      ...\n",
       "239  29.03    5.92     Male     No   Sat  Dinner        3\n",
       "240  27.18    2.00   Female    Yes   Sat  Dinner        2\n",
       "241  22.67    2.00     Male    Yes   Sat  Dinner        2\n",
       "242  17.82    1.75     Male     No   Sat  Dinner        2\n",
       "243  18.78    3.00   Female     No  Thur  Dinner        2\n",
       "\n",
       "[244 rows x 7 columns]"
      ]
     },
     "execution_count": 7,
     "metadata": {},
     "output_type": "execute_result"
    }
   ],
   "source": [
    "df.rename(columns = {\"total_bill\": \"fiyat\",\n",
    "                     \"tip\": \"bahşiş\",\n",
    "                     \"sex\": \"cinsiyet\",\n",
    "                     \"smoker\": \"sigara\",\n",
    "                     \"day\": \"gün\",\n",
    "                     \"time\": \"zaman\",\n",
    "                     \"size\": \"kişiler\"})"
   ]
  },
  {
   "cell_type": "code",
   "execution_count": 8,
   "id": "b276ef60",
   "metadata": {},
   "outputs": [
    {
     "data": {
      "text/html": [
       "<div>\n",
       "<style scoped>\n",
       "    .dataframe tbody tr th:only-of-type {\n",
       "        vertical-align: middle;\n",
       "    }\n",
       "\n",
       "    .dataframe tbody tr th {\n",
       "        vertical-align: top;\n",
       "    }\n",
       "\n",
       "    .dataframe thead th {\n",
       "        text-align: right;\n",
       "    }\n",
       "</style>\n",
       "<table border=\"1\" class=\"dataframe\">\n",
       "  <thead>\n",
       "    <tr style=\"text-align: right;\">\n",
       "      <th></th>\n",
       "      <th>total_bill</th>\n",
       "      <th>tip</th>\n",
       "      <th>sex</th>\n",
       "      <th>smoker</th>\n",
       "      <th>day</th>\n",
       "      <th>time</th>\n",
       "      <th>size</th>\n",
       "    </tr>\n",
       "  </thead>\n",
       "  <tbody>\n",
       "    <tr>\n",
       "      <th>0</th>\n",
       "      <td>16.99</td>\n",
       "      <td>1.01</td>\n",
       "      <td>Female</td>\n",
       "      <td>No</td>\n",
       "      <td>Sun</td>\n",
       "      <td>Dinner</td>\n",
       "      <td>2</td>\n",
       "    </tr>\n",
       "    <tr>\n",
       "      <th>1</th>\n",
       "      <td>10.34</td>\n",
       "      <td>1.66</td>\n",
       "      <td>Male</td>\n",
       "      <td>No</td>\n",
       "      <td>Sun</td>\n",
       "      <td>Dinner</td>\n",
       "      <td>3</td>\n",
       "    </tr>\n",
       "    <tr>\n",
       "      <th>2</th>\n",
       "      <td>21.01</td>\n",
       "      <td>3.50</td>\n",
       "      <td>Male</td>\n",
       "      <td>No</td>\n",
       "      <td>Sun</td>\n",
       "      <td>Dinner</td>\n",
       "      <td>3</td>\n",
       "    </tr>\n",
       "    <tr>\n",
       "      <th>3</th>\n",
       "      <td>23.68</td>\n",
       "      <td>3.31</td>\n",
       "      <td>Male</td>\n",
       "      <td>No</td>\n",
       "      <td>Sun</td>\n",
       "      <td>Dinner</td>\n",
       "      <td>2</td>\n",
       "    </tr>\n",
       "    <tr>\n",
       "      <th>4</th>\n",
       "      <td>24.59</td>\n",
       "      <td>3.61</td>\n",
       "      <td>Female</td>\n",
       "      <td>No</td>\n",
       "      <td>Sun</td>\n",
       "      <td>Dinner</td>\n",
       "      <td>4</td>\n",
       "    </tr>\n",
       "  </tbody>\n",
       "</table>\n",
       "</div>"
      ],
      "text/plain": [
       "   total_bill   tip     sex smoker  day    time  size\n",
       "0       16.99  1.01  Female     No  Sun  Dinner     2\n",
       "1       10.34  1.66    Male     No  Sun  Dinner     3\n",
       "2       21.01  3.50    Male     No  Sun  Dinner     3\n",
       "3       23.68  3.31    Male     No  Sun  Dinner     2\n",
       "4       24.59  3.61  Female     No  Sun  Dinner     4"
      ]
     },
     "execution_count": 8,
     "metadata": {},
     "output_type": "execute_result"
    }
   ],
   "source": [
    "df.head()"
   ]
  },
  {
   "cell_type": "markdown",
   "id": "36ebef30",
   "metadata": {},
   "source": [
    "* Değiştime işlemi gerçekleşmedi çünkü inplace = True yapmadık "
   ]
  },
  {
   "cell_type": "code",
   "execution_count": 9,
   "id": "038391f1",
   "metadata": {},
   "outputs": [],
   "source": [
    "df.rename(columns = {\"total_bill\": \"fiyat\",\n",
    "                     \"tip\": \"bahşiş\",\n",
    "                     \"sex\": \"cinsiyet\",\n",
    "                     \"smoker\": \"sigara\",\n",
    "                     \"day\": \"gün\",\n",
    "                     \"time\": \"zaman\",\n",
    "                     \"size\": \"kişiler\"}, inplace = True)"
   ]
  },
  {
   "cell_type": "code",
   "execution_count": 10,
   "id": "73efaeb5",
   "metadata": {},
   "outputs": [
    {
     "data": {
      "text/html": [
       "<div>\n",
       "<style scoped>\n",
       "    .dataframe tbody tr th:only-of-type {\n",
       "        vertical-align: middle;\n",
       "    }\n",
       "\n",
       "    .dataframe tbody tr th {\n",
       "        vertical-align: top;\n",
       "    }\n",
       "\n",
       "    .dataframe thead th {\n",
       "        text-align: right;\n",
       "    }\n",
       "</style>\n",
       "<table border=\"1\" class=\"dataframe\">\n",
       "  <thead>\n",
       "    <tr style=\"text-align: right;\">\n",
       "      <th></th>\n",
       "      <th>fiyat</th>\n",
       "      <th>bahşiş</th>\n",
       "      <th>cinsiyet</th>\n",
       "      <th>sigara</th>\n",
       "      <th>gün</th>\n",
       "      <th>zaman</th>\n",
       "      <th>kişiler</th>\n",
       "    </tr>\n",
       "  </thead>\n",
       "  <tbody>\n",
       "    <tr>\n",
       "      <th>0</th>\n",
       "      <td>16.99</td>\n",
       "      <td>1.01</td>\n",
       "      <td>Female</td>\n",
       "      <td>No</td>\n",
       "      <td>Sun</td>\n",
       "      <td>Dinner</td>\n",
       "      <td>2</td>\n",
       "    </tr>\n",
       "    <tr>\n",
       "      <th>1</th>\n",
       "      <td>10.34</td>\n",
       "      <td>1.66</td>\n",
       "      <td>Male</td>\n",
       "      <td>No</td>\n",
       "      <td>Sun</td>\n",
       "      <td>Dinner</td>\n",
       "      <td>3</td>\n",
       "    </tr>\n",
       "    <tr>\n",
       "      <th>2</th>\n",
       "      <td>21.01</td>\n",
       "      <td>3.50</td>\n",
       "      <td>Male</td>\n",
       "      <td>No</td>\n",
       "      <td>Sun</td>\n",
       "      <td>Dinner</td>\n",
       "      <td>3</td>\n",
       "    </tr>\n",
       "    <tr>\n",
       "      <th>3</th>\n",
       "      <td>23.68</td>\n",
       "      <td>3.31</td>\n",
       "      <td>Male</td>\n",
       "      <td>No</td>\n",
       "      <td>Sun</td>\n",
       "      <td>Dinner</td>\n",
       "      <td>2</td>\n",
       "    </tr>\n",
       "    <tr>\n",
       "      <th>4</th>\n",
       "      <td>24.59</td>\n",
       "      <td>3.61</td>\n",
       "      <td>Female</td>\n",
       "      <td>No</td>\n",
       "      <td>Sun</td>\n",
       "      <td>Dinner</td>\n",
       "      <td>4</td>\n",
       "    </tr>\n",
       "  </tbody>\n",
       "</table>\n",
       "</div>"
      ],
      "text/plain": [
       "   fiyat  bahşiş cinsiyet sigara  gün   zaman  kişiler\n",
       "0  16.99    1.01   Female     No  Sun  Dinner        2\n",
       "1  10.34    1.66     Male     No  Sun  Dinner        3\n",
       "2  21.01    3.50     Male     No  Sun  Dinner        3\n",
       "3  23.68    3.31     Male     No  Sun  Dinner        2\n",
       "4  24.59    3.61   Female     No  Sun  Dinner        4"
      ]
     },
     "execution_count": 10,
     "metadata": {},
     "output_type": "execute_result"
    }
   ],
   "source": [
    "df.head()"
   ]
  },
  {
   "cell_type": "markdown",
   "id": "4d68aebe",
   "metadata": {},
   "source": [
    "# İçeriklerin değiştirmesi"
   ]
  },
  {
   "cell_type": "markdown",
   "id": "37024608",
   "metadata": {},
   "source": [
    "# 1.Cinsiyet"
   ]
  },
  {
   "cell_type": "code",
   "execution_count": 11,
   "id": "5b58fd48",
   "metadata": {},
   "outputs": [
    {
     "data": {
      "text/plain": [
       "['Female', 'Male']\n",
       "Categories (2, object): ['Male', 'Female']"
      ]
     },
     "execution_count": 11,
     "metadata": {},
     "output_type": "execute_result"
    }
   ],
   "source": [
    "df.cinsiyet.unique()"
   ]
  },
  {
   "cell_type": "code",
   "execution_count": 12,
   "id": "ee8bd07b",
   "metadata": {},
   "outputs": [],
   "source": [
    "df[\"cinsiyet\"] = df.cinsiyet.map({\"Female\": \"Kadın\",\"Male\":\"Erkek\"})"
   ]
  },
  {
   "cell_type": "code",
   "execution_count": 13,
   "id": "40dcb6c2",
   "metadata": {},
   "outputs": [
    {
     "data": {
      "text/html": [
       "<div>\n",
       "<style scoped>\n",
       "    .dataframe tbody tr th:only-of-type {\n",
       "        vertical-align: middle;\n",
       "    }\n",
       "\n",
       "    .dataframe tbody tr th {\n",
       "        vertical-align: top;\n",
       "    }\n",
       "\n",
       "    .dataframe thead th {\n",
       "        text-align: right;\n",
       "    }\n",
       "</style>\n",
       "<table border=\"1\" class=\"dataframe\">\n",
       "  <thead>\n",
       "    <tr style=\"text-align: right;\">\n",
       "      <th></th>\n",
       "      <th>fiyat</th>\n",
       "      <th>bahşiş</th>\n",
       "      <th>cinsiyet</th>\n",
       "      <th>sigara</th>\n",
       "      <th>gün</th>\n",
       "      <th>zaman</th>\n",
       "      <th>kişiler</th>\n",
       "    </tr>\n",
       "  </thead>\n",
       "  <tbody>\n",
       "    <tr>\n",
       "      <th>239</th>\n",
       "      <td>29.03</td>\n",
       "      <td>5.92</td>\n",
       "      <td>Erkek</td>\n",
       "      <td>No</td>\n",
       "      <td>Sat</td>\n",
       "      <td>Dinner</td>\n",
       "      <td>3</td>\n",
       "    </tr>\n",
       "    <tr>\n",
       "      <th>240</th>\n",
       "      <td>27.18</td>\n",
       "      <td>2.00</td>\n",
       "      <td>Kadın</td>\n",
       "      <td>Yes</td>\n",
       "      <td>Sat</td>\n",
       "      <td>Dinner</td>\n",
       "      <td>2</td>\n",
       "    </tr>\n",
       "    <tr>\n",
       "      <th>241</th>\n",
       "      <td>22.67</td>\n",
       "      <td>2.00</td>\n",
       "      <td>Erkek</td>\n",
       "      <td>Yes</td>\n",
       "      <td>Sat</td>\n",
       "      <td>Dinner</td>\n",
       "      <td>2</td>\n",
       "    </tr>\n",
       "    <tr>\n",
       "      <th>242</th>\n",
       "      <td>17.82</td>\n",
       "      <td>1.75</td>\n",
       "      <td>Erkek</td>\n",
       "      <td>No</td>\n",
       "      <td>Sat</td>\n",
       "      <td>Dinner</td>\n",
       "      <td>2</td>\n",
       "    </tr>\n",
       "    <tr>\n",
       "      <th>243</th>\n",
       "      <td>18.78</td>\n",
       "      <td>3.00</td>\n",
       "      <td>Kadın</td>\n",
       "      <td>No</td>\n",
       "      <td>Thur</td>\n",
       "      <td>Dinner</td>\n",
       "      <td>2</td>\n",
       "    </tr>\n",
       "  </tbody>\n",
       "</table>\n",
       "</div>"
      ],
      "text/plain": [
       "     fiyat  bahşiş cinsiyet sigara   gün   zaman  kişiler\n",
       "239  29.03    5.92    Erkek     No   Sat  Dinner        3\n",
       "240  27.18    2.00    Kadın    Yes   Sat  Dinner        2\n",
       "241  22.67    2.00    Erkek    Yes   Sat  Dinner        2\n",
       "242  17.82    1.75    Erkek     No   Sat  Dinner        2\n",
       "243  18.78    3.00    Kadın     No  Thur  Dinner        2"
      ]
     },
     "execution_count": 13,
     "metadata": {},
     "output_type": "execute_result"
    }
   ],
   "source": [
    "df.tail()"
   ]
  },
  {
   "cell_type": "markdown",
   "id": "e1fc8a7b",
   "metadata": {},
   "source": [
    "# 2.Sigara"
   ]
  },
  {
   "cell_type": "code",
   "execution_count": 14,
   "id": "62a1cf08",
   "metadata": {},
   "outputs": [
    {
     "data": {
      "text/plain": [
       "['No', 'Yes']\n",
       "Categories (2, object): ['Yes', 'No']"
      ]
     },
     "execution_count": 14,
     "metadata": {},
     "output_type": "execute_result"
    }
   ],
   "source": [
    "df.sigara.unique()"
   ]
  },
  {
   "cell_type": "code",
   "execution_count": 15,
   "id": "8b8b056f",
   "metadata": {},
   "outputs": [],
   "source": [
    "df[\"sigara\"] = df.sigara.map({\"No\": \"Hayır\", \"Yes\": \"Evet\"})"
   ]
  },
  {
   "cell_type": "code",
   "execution_count": 16,
   "id": "707920c6",
   "metadata": {},
   "outputs": [
    {
     "data": {
      "text/html": [
       "<div>\n",
       "<style scoped>\n",
       "    .dataframe tbody tr th:only-of-type {\n",
       "        vertical-align: middle;\n",
       "    }\n",
       "\n",
       "    .dataframe tbody tr th {\n",
       "        vertical-align: top;\n",
       "    }\n",
       "\n",
       "    .dataframe thead th {\n",
       "        text-align: right;\n",
       "    }\n",
       "</style>\n",
       "<table border=\"1\" class=\"dataframe\">\n",
       "  <thead>\n",
       "    <tr style=\"text-align: right;\">\n",
       "      <th></th>\n",
       "      <th>fiyat</th>\n",
       "      <th>bahşiş</th>\n",
       "      <th>cinsiyet</th>\n",
       "      <th>sigara</th>\n",
       "      <th>gün</th>\n",
       "      <th>zaman</th>\n",
       "      <th>kişiler</th>\n",
       "    </tr>\n",
       "  </thead>\n",
       "  <tbody>\n",
       "    <tr>\n",
       "      <th>239</th>\n",
       "      <td>29.03</td>\n",
       "      <td>5.92</td>\n",
       "      <td>Erkek</td>\n",
       "      <td>Hayır</td>\n",
       "      <td>Sat</td>\n",
       "      <td>Dinner</td>\n",
       "      <td>3</td>\n",
       "    </tr>\n",
       "    <tr>\n",
       "      <th>240</th>\n",
       "      <td>27.18</td>\n",
       "      <td>2.00</td>\n",
       "      <td>Kadın</td>\n",
       "      <td>Evet</td>\n",
       "      <td>Sat</td>\n",
       "      <td>Dinner</td>\n",
       "      <td>2</td>\n",
       "    </tr>\n",
       "    <tr>\n",
       "      <th>241</th>\n",
       "      <td>22.67</td>\n",
       "      <td>2.00</td>\n",
       "      <td>Erkek</td>\n",
       "      <td>Evet</td>\n",
       "      <td>Sat</td>\n",
       "      <td>Dinner</td>\n",
       "      <td>2</td>\n",
       "    </tr>\n",
       "    <tr>\n",
       "      <th>242</th>\n",
       "      <td>17.82</td>\n",
       "      <td>1.75</td>\n",
       "      <td>Erkek</td>\n",
       "      <td>Hayır</td>\n",
       "      <td>Sat</td>\n",
       "      <td>Dinner</td>\n",
       "      <td>2</td>\n",
       "    </tr>\n",
       "    <tr>\n",
       "      <th>243</th>\n",
       "      <td>18.78</td>\n",
       "      <td>3.00</td>\n",
       "      <td>Kadın</td>\n",
       "      <td>Hayır</td>\n",
       "      <td>Thur</td>\n",
       "      <td>Dinner</td>\n",
       "      <td>2</td>\n",
       "    </tr>\n",
       "  </tbody>\n",
       "</table>\n",
       "</div>"
      ],
      "text/plain": [
       "     fiyat  bahşiş cinsiyet sigara   gün   zaman  kişiler\n",
       "239  29.03    5.92    Erkek  Hayır   Sat  Dinner        3\n",
       "240  27.18    2.00    Kadın   Evet   Sat  Dinner        2\n",
       "241  22.67    2.00    Erkek   Evet   Sat  Dinner        2\n",
       "242  17.82    1.75    Erkek  Hayır   Sat  Dinner        2\n",
       "243  18.78    3.00    Kadın  Hayır  Thur  Dinner        2"
      ]
     },
     "execution_count": 16,
     "metadata": {},
     "output_type": "execute_result"
    }
   ],
   "source": [
    "df.tail()"
   ]
  },
  {
   "cell_type": "markdown",
   "id": "22f5b8e4",
   "metadata": {},
   "source": [
    "# 3.Gün"
   ]
  },
  {
   "cell_type": "code",
   "execution_count": 17,
   "id": "04c60e16",
   "metadata": {},
   "outputs": [
    {
     "data": {
      "text/plain": [
       "['Sun', 'Sat', 'Thur', 'Fri']\n",
       "Categories (4, object): ['Thur', 'Fri', 'Sat', 'Sun']"
      ]
     },
     "execution_count": 17,
     "metadata": {},
     "output_type": "execute_result"
    }
   ],
   "source": [
    "df.gün.unique()"
   ]
  },
  {
   "cell_type": "code",
   "execution_count": 18,
   "id": "3b5317cf",
   "metadata": {},
   "outputs": [],
   "source": [
    "df[\"gün\"] = df.gün.map({\"Sun\": \"Pazar\",\"Sat\": \"Cumartesi\", \"Thur\": \"Perşembe\",\n",
    "            \"Fri\": \"Cuma\"})"
   ]
  },
  {
   "cell_type": "code",
   "execution_count": 19,
   "id": "19a31315",
   "metadata": {},
   "outputs": [
    {
     "data": {
      "text/html": [
       "<div>\n",
       "<style scoped>\n",
       "    .dataframe tbody tr th:only-of-type {\n",
       "        vertical-align: middle;\n",
       "    }\n",
       "\n",
       "    .dataframe tbody tr th {\n",
       "        vertical-align: top;\n",
       "    }\n",
       "\n",
       "    .dataframe thead th {\n",
       "        text-align: right;\n",
       "    }\n",
       "</style>\n",
       "<table border=\"1\" class=\"dataframe\">\n",
       "  <thead>\n",
       "    <tr style=\"text-align: right;\">\n",
       "      <th></th>\n",
       "      <th>fiyat</th>\n",
       "      <th>bahşiş</th>\n",
       "      <th>cinsiyet</th>\n",
       "      <th>sigara</th>\n",
       "      <th>gün</th>\n",
       "      <th>zaman</th>\n",
       "      <th>kişiler</th>\n",
       "    </tr>\n",
       "  </thead>\n",
       "  <tbody>\n",
       "    <tr>\n",
       "      <th>239</th>\n",
       "      <td>29.03</td>\n",
       "      <td>5.92</td>\n",
       "      <td>Erkek</td>\n",
       "      <td>Hayır</td>\n",
       "      <td>Cumartesi</td>\n",
       "      <td>Dinner</td>\n",
       "      <td>3</td>\n",
       "    </tr>\n",
       "    <tr>\n",
       "      <th>240</th>\n",
       "      <td>27.18</td>\n",
       "      <td>2.00</td>\n",
       "      <td>Kadın</td>\n",
       "      <td>Evet</td>\n",
       "      <td>Cumartesi</td>\n",
       "      <td>Dinner</td>\n",
       "      <td>2</td>\n",
       "    </tr>\n",
       "    <tr>\n",
       "      <th>241</th>\n",
       "      <td>22.67</td>\n",
       "      <td>2.00</td>\n",
       "      <td>Erkek</td>\n",
       "      <td>Evet</td>\n",
       "      <td>Cumartesi</td>\n",
       "      <td>Dinner</td>\n",
       "      <td>2</td>\n",
       "    </tr>\n",
       "    <tr>\n",
       "      <th>242</th>\n",
       "      <td>17.82</td>\n",
       "      <td>1.75</td>\n",
       "      <td>Erkek</td>\n",
       "      <td>Hayır</td>\n",
       "      <td>Cumartesi</td>\n",
       "      <td>Dinner</td>\n",
       "      <td>2</td>\n",
       "    </tr>\n",
       "    <tr>\n",
       "      <th>243</th>\n",
       "      <td>18.78</td>\n",
       "      <td>3.00</td>\n",
       "      <td>Kadın</td>\n",
       "      <td>Hayır</td>\n",
       "      <td>Perşembe</td>\n",
       "      <td>Dinner</td>\n",
       "      <td>2</td>\n",
       "    </tr>\n",
       "  </tbody>\n",
       "</table>\n",
       "</div>"
      ],
      "text/plain": [
       "     fiyat  bahşiş cinsiyet sigara        gün   zaman  kişiler\n",
       "239  29.03    5.92    Erkek  Hayır  Cumartesi  Dinner        3\n",
       "240  27.18    2.00    Kadın   Evet  Cumartesi  Dinner        2\n",
       "241  22.67    2.00    Erkek   Evet  Cumartesi  Dinner        2\n",
       "242  17.82    1.75    Erkek  Hayır  Cumartesi  Dinner        2\n",
       "243  18.78    3.00    Kadın  Hayır   Perşembe  Dinner        2"
      ]
     },
     "execution_count": 19,
     "metadata": {},
     "output_type": "execute_result"
    }
   ],
   "source": [
    "df.tail()"
   ]
  },
  {
   "cell_type": "markdown",
   "id": "4bfbd313",
   "metadata": {},
   "source": [
    "# 4.Zaman"
   ]
  },
  {
   "cell_type": "code",
   "execution_count": 20,
   "id": "1de44e5f",
   "metadata": {},
   "outputs": [
    {
     "data": {
      "text/plain": [
       "['Dinner', 'Lunch']\n",
       "Categories (2, object): ['Lunch', 'Dinner']"
      ]
     },
     "execution_count": 20,
     "metadata": {},
     "output_type": "execute_result"
    }
   ],
   "source": [
    "df.zaman.unique()"
   ]
  },
  {
   "cell_type": "code",
   "execution_count": 21,
   "id": "656bd7bb",
   "metadata": {},
   "outputs": [],
   "source": [
    "df[\"zaman\"] = df.zaman.map({\"Dinner\": \"Akşam\", \"Lunch\": \"Öğlen\"})"
   ]
  },
  {
   "cell_type": "code",
   "execution_count": 22,
   "id": "2694dfd3",
   "metadata": {},
   "outputs": [
    {
     "data": {
      "text/html": [
       "<div>\n",
       "<style scoped>\n",
       "    .dataframe tbody tr th:only-of-type {\n",
       "        vertical-align: middle;\n",
       "    }\n",
       "\n",
       "    .dataframe tbody tr th {\n",
       "        vertical-align: top;\n",
       "    }\n",
       "\n",
       "    .dataframe thead th {\n",
       "        text-align: right;\n",
       "    }\n",
       "</style>\n",
       "<table border=\"1\" class=\"dataframe\">\n",
       "  <thead>\n",
       "    <tr style=\"text-align: right;\">\n",
       "      <th></th>\n",
       "      <th>fiyat</th>\n",
       "      <th>bahşiş</th>\n",
       "      <th>cinsiyet</th>\n",
       "      <th>sigara</th>\n",
       "      <th>gün</th>\n",
       "      <th>zaman</th>\n",
       "      <th>kişiler</th>\n",
       "    </tr>\n",
       "  </thead>\n",
       "  <tbody>\n",
       "    <tr>\n",
       "      <th>0</th>\n",
       "      <td>16.99</td>\n",
       "      <td>1.01</td>\n",
       "      <td>Kadın</td>\n",
       "      <td>Hayır</td>\n",
       "      <td>Pazar</td>\n",
       "      <td>Akşam</td>\n",
       "      <td>2</td>\n",
       "    </tr>\n",
       "    <tr>\n",
       "      <th>1</th>\n",
       "      <td>10.34</td>\n",
       "      <td>1.66</td>\n",
       "      <td>Erkek</td>\n",
       "      <td>Hayır</td>\n",
       "      <td>Pazar</td>\n",
       "      <td>Akşam</td>\n",
       "      <td>3</td>\n",
       "    </tr>\n",
       "    <tr>\n",
       "      <th>2</th>\n",
       "      <td>21.01</td>\n",
       "      <td>3.50</td>\n",
       "      <td>Erkek</td>\n",
       "      <td>Hayır</td>\n",
       "      <td>Pazar</td>\n",
       "      <td>Akşam</td>\n",
       "      <td>3</td>\n",
       "    </tr>\n",
       "    <tr>\n",
       "      <th>3</th>\n",
       "      <td>23.68</td>\n",
       "      <td>3.31</td>\n",
       "      <td>Erkek</td>\n",
       "      <td>Hayır</td>\n",
       "      <td>Pazar</td>\n",
       "      <td>Akşam</td>\n",
       "      <td>2</td>\n",
       "    </tr>\n",
       "    <tr>\n",
       "      <th>4</th>\n",
       "      <td>24.59</td>\n",
       "      <td>3.61</td>\n",
       "      <td>Kadın</td>\n",
       "      <td>Hayır</td>\n",
       "      <td>Pazar</td>\n",
       "      <td>Akşam</td>\n",
       "      <td>4</td>\n",
       "    </tr>\n",
       "  </tbody>\n",
       "</table>\n",
       "</div>"
      ],
      "text/plain": [
       "   fiyat  bahşiş cinsiyet sigara    gün  zaman  kişiler\n",
       "0  16.99    1.01    Kadın  Hayır  Pazar  Akşam        2\n",
       "1  10.34    1.66    Erkek  Hayır  Pazar  Akşam        3\n",
       "2  21.01    3.50    Erkek  Hayır  Pazar  Akşam        3\n",
       "3  23.68    3.31    Erkek  Hayır  Pazar  Akşam        2\n",
       "4  24.59    3.61    Kadın  Hayır  Pazar  Akşam        4"
      ]
     },
     "execution_count": 22,
     "metadata": {},
     "output_type": "execute_result"
    }
   ],
   "source": [
    "df.head()"
   ]
  },
  {
   "cell_type": "markdown",
   "id": "cd250bcf",
   "metadata": {},
   "source": [
    "# Görselleştirme İşlemleri "
   ]
  },
  {
   "cell_type": "code",
   "execution_count": 23,
   "id": "973d8d69",
   "metadata": {},
   "outputs": [],
   "source": [
    "import matplotlib.pyplot as plt"
   ]
  },
  {
   "cell_type": "code",
   "execution_count": 24,
   "id": "dc88a261",
   "metadata": {},
   "outputs": [
    {
     "data": {
      "text/plain": [
       "Cumartesi    87\n",
       "Pazar        76\n",
       "Perşembe     62\n",
       "Cuma         19\n",
       "Name: gün, dtype: int64"
      ]
     },
     "execution_count": 24,
     "metadata": {},
     "output_type": "execute_result"
    }
   ],
   "source": [
    "df.gün.value_counts()"
   ]
  },
  {
   "cell_type": "code",
   "execution_count": 25,
   "id": "1ce5f3a2",
   "metadata": {},
   "outputs": [
    {
     "data": {
      "text/plain": [
       "<AxesSubplot:>"
      ]
     },
     "execution_count": 25,
     "metadata": {},
     "output_type": "execute_result"
    },
    {
     "data": {
      "image/png": "[encoded data removed]",
      "text/plain": [
       "<Figure size 640x480 with 1 Axes>"
      ]
     },
     "metadata": {},
     "output_type": "display_data"
    }
   ],
   "source": [
    "df.gün.value_counts().plot()"
   ]
  },
  {
   "cell_type": "code",
   "execution_count": 26,
   "id": "afc1afc6",
   "metadata": {},
   "outputs": [
    {
     "data": {
      "image/png": "[encoded data removed]",
      "text/plain": [
       "<Figure size 640x480 with 1 Axes>"
      ]
     },
     "metadata": {},
     "output_type": "display_data"
    }
   ],
   "source": [
    "df.gün.value_counts().plot(kind = \"pie\");"
   ]
  },
  {
   "cell_type": "code",
   "execution_count": 27,
   "id": "90567bb3",
   "metadata": {},
   "outputs": [
    {
     "data": {
      "text/plain": [
       "Text(0, 0.5, ' ')"
      ]
     },
     "execution_count": 27,
     "metadata": {},
     "output_type": "execute_result"
    },
    {
     "data": {
      "image/png": "[encoded data removed]",
      "text/plain": [
       "<Figure size 640x480 with 1 Axes>"
      ]
     },
     "metadata": {},
     "output_type": "display_data"
    }
   ],
   "source": [
    "df.gün.value_counts().plot(kind = \"pie\")\n",
    "plt.ylabel(\" \")"
   ]
  },
  {
   "cell_type": "markdown",
   "id": "6e5a3bac",
   "metadata": {},
   "source": [
    "# Günler Pasta grafigi"
   ]
  },
  {
   "cell_type": "code",
   "execution_count": 28,
   "id": "e51b480c",
   "metadata": {},
   "outputs": [
    {
     "data": {
      "text/plain": [
       "Text(0, 0.5, ' ')"
      ]
     },
     "execution_count": 28,
     "metadata": {},
     "output_type": "execute_result"
    },
    {
     "data": {
      "image/png": "[encoded data removed]",
      "text/plain": [
       "<Figure size 640x480 with 1 Axes>"
      ]
     },
     "metadata": {},
     "output_type": "display_data"
    }
   ],
   "source": [
    "df.gün.value_counts().plot(kind = \"pie\", autopct = \"%.1f%%\");\n",
    "plt.ylabel(\" \")"
   ]
  },
  {
   "cell_type": "markdown",
   "id": "ac3fdcdc",
   "metadata": {},
   "source": [
    "# Cinsiyet pasta grafigi"
   ]
  },
  {
   "cell_type": "code",
   "execution_count": 29,
   "id": "1d15ded1",
   "metadata": {},
   "outputs": [
    {
     "data": {
      "image/png": "[encoded data removed]",
      "text/plain": [
       "<Figure size 640x480 with 1 Axes>"
      ]
     },
     "metadata": {},
     "output_type": "display_data"
    }
   ],
   "source": [
    "df.cinsiyet.value_counts().plot(kind = \"pie\", autopct = \"%.1f%%\")\n",
    "plt.ylabel(\" \");"
   ]
  },
  {
   "cell_type": "code",
   "execution_count": 30,
   "id": "661cc3ad",
   "metadata": {},
   "outputs": [
    {
     "data": {
      "image/png": "[encoded data removed]",
      "text/plain": [
       "<Figure size 640x480 with 1 Axes>"
      ]
     },
     "metadata": {},
     "output_type": "display_data"
    }
   ],
   "source": [
    "sns.barplot(x = \"gün\", y = \"fiyat\", data = df);"
   ]
  },
  {
   "cell_type": "markdown",
   "id": "21c7c07c",
   "metadata": {},
   "source": [
    "* İkinci bir boyut eklemek istiyorsak hue argümanı kullanılır."
   ]
  },
  {
   "cell_type": "code",
   "execution_count": 31,
   "id": "0f9bc823",
   "metadata": {},
   "outputs": [
    {
     "data": {
      "image/png": "[encoded data removed]",
      "text/plain": [
       "<Figure size 640x480 with 1 Axes>"
      ]
     },
     "metadata": {},
     "output_type": "display_data"
    }
   ],
   "source": [
    "sns.barplot(x = \"gün\", y = \"fiyat\", hue = \"sigara\", data = df);"
   ]
  },
  {
   "cell_type": "code",
   "execution_count": 32,
   "id": "4a9ddfec",
   "metadata": {},
   "outputs": [
    {
     "data": {
      "text/html": [
       "<div>\n",
       "<style scoped>\n",
       "    .dataframe tbody tr th:only-of-type {\n",
       "        vertical-align: middle;\n",
       "    }\n",
       "\n",
       "    .dataframe tbody tr th {\n",
       "        vertical-align: top;\n",
       "    }\n",
       "\n",
       "    .dataframe thead th {\n",
       "        text-align: right;\n",
       "    }\n",
       "</style>\n",
       "<table border=\"1\" class=\"dataframe\">\n",
       "  <thead>\n",
       "    <tr style=\"text-align: right;\">\n",
       "      <th></th>\n",
       "      <th>fiyat</th>\n",
       "      <th>bahşiş</th>\n",
       "      <th>cinsiyet</th>\n",
       "      <th>sigara</th>\n",
       "      <th>gün</th>\n",
       "      <th>zaman</th>\n",
       "      <th>kişiler</th>\n",
       "    </tr>\n",
       "  </thead>\n",
       "  <tbody>\n",
       "    <tr>\n",
       "      <th>0</th>\n",
       "      <td>16.99</td>\n",
       "      <td>1.01</td>\n",
       "      <td>Kadın</td>\n",
       "      <td>Hayır</td>\n",
       "      <td>Pazar</td>\n",
       "      <td>Akşam</td>\n",
       "      <td>2</td>\n",
       "    </tr>\n",
       "    <tr>\n",
       "      <th>1</th>\n",
       "      <td>10.34</td>\n",
       "      <td>1.66</td>\n",
       "      <td>Erkek</td>\n",
       "      <td>Hayır</td>\n",
       "      <td>Pazar</td>\n",
       "      <td>Akşam</td>\n",
       "      <td>3</td>\n",
       "    </tr>\n",
       "    <tr>\n",
       "      <th>2</th>\n",
       "      <td>21.01</td>\n",
       "      <td>3.50</td>\n",
       "      <td>Erkek</td>\n",
       "      <td>Hayır</td>\n",
       "      <td>Pazar</td>\n",
       "      <td>Akşam</td>\n",
       "      <td>3</td>\n",
       "    </tr>\n",
       "    <tr>\n",
       "      <th>3</th>\n",
       "      <td>23.68</td>\n",
       "      <td>3.31</td>\n",
       "      <td>Erkek</td>\n",
       "      <td>Hayır</td>\n",
       "      <td>Pazar</td>\n",
       "      <td>Akşam</td>\n",
       "      <td>2</td>\n",
       "    </tr>\n",
       "    <tr>\n",
       "      <th>4</th>\n",
       "      <td>24.59</td>\n",
       "      <td>3.61</td>\n",
       "      <td>Kadın</td>\n",
       "      <td>Hayır</td>\n",
       "      <td>Pazar</td>\n",
       "      <td>Akşam</td>\n",
       "      <td>4</td>\n",
       "    </tr>\n",
       "  </tbody>\n",
       "</table>\n",
       "</div>"
      ],
      "text/plain": [
       "   fiyat  bahşiş cinsiyet sigara    gün  zaman  kişiler\n",
       "0  16.99    1.01    Kadın  Hayır  Pazar  Akşam        2\n",
       "1  10.34    1.66    Erkek  Hayır  Pazar  Akşam        3\n",
       "2  21.01    3.50    Erkek  Hayır  Pazar  Akşam        3\n",
       "3  23.68    3.31    Erkek  Hayır  Pazar  Akşam        2\n",
       "4  24.59    3.61    Kadın  Hayır  Pazar  Akşam        4"
      ]
     },
     "execution_count": 32,
     "metadata": {},
     "output_type": "execute_result"
    }
   ],
   "source": [
    "df.head()"
   ]
  },
  {
   "cell_type": "markdown",
   "id": "200aeaa1",
   "metadata": {},
   "source": [
    "# String ifadeleri sayısal hale getirme"
   ]
  },
  {
   "cell_type": "markdown",
   "id": "612b0924",
   "metadata": {},
   "source": [
    "# 1.Cinsiyet"
   ]
  },
  {
   "cell_type": "code",
   "execution_count": 33,
   "id": "207c8560",
   "metadata": {},
   "outputs": [],
   "source": [
    "df[\"cinsiyet\"] = df.cinsiyet.map({\"Kadın\": 1, \"Erkek\": 2})"
   ]
  },
  {
   "cell_type": "markdown",
   "id": "a3d12e00",
   "metadata": {},
   "source": [
    "# 2.Sigara"
   ]
  },
  {
   "cell_type": "code",
   "execution_count": 34,
   "id": "a90e11e7",
   "metadata": {},
   "outputs": [
    {
     "data": {
      "text/plain": [
       "['Hayır', 'Evet']\n",
       "Categories (2, object): ['Evet', 'Hayır']"
      ]
     },
     "execution_count": 34,
     "metadata": {},
     "output_type": "execute_result"
    }
   ],
   "source": [
    "df.sigara.unique()"
   ]
  },
  {
   "cell_type": "code",
   "execution_count": 35,
   "id": "ff968a89",
   "metadata": {},
   "outputs": [],
   "source": [
    "df[\"sigara\"] = df.sigara.map({\"Evet\": 1, \"Hayır\":2})"
   ]
  },
  {
   "cell_type": "markdown",
   "id": "07778779",
   "metadata": {},
   "source": [
    "# 3.Günler"
   ]
  },
  {
   "cell_type": "code",
   "execution_count": 36,
   "id": "a35ebc92",
   "metadata": {},
   "outputs": [
    {
     "data": {
      "text/plain": [
       "['Pazar', 'Cumartesi', 'Perşembe', 'Cuma']\n",
       "Categories (4, object): ['Perşembe', 'Cuma', 'Cumartesi', 'Pazar']"
      ]
     },
     "execution_count": 36,
     "metadata": {},
     "output_type": "execute_result"
    }
   ],
   "source": [
    "df.gün.unique()"
   ]
  },
  {
   "cell_type": "code",
   "execution_count": 37,
   "id": "6a309f28",
   "metadata": {},
   "outputs": [],
   "source": [
    "df[\"gün\"] = df.gün.map({\"Perşembe\": 1, \"Cuma\": 2, \"Cumartesi\": 3, \"Pazar\": 4})"
   ]
  },
  {
   "cell_type": "markdown",
   "id": "2787aa07",
   "metadata": {},
   "source": [
    "# 4.Zaman"
   ]
  },
  {
   "cell_type": "code",
   "execution_count": 38,
   "id": "e50d1aa9",
   "metadata": {},
   "outputs": [
    {
     "data": {
      "text/plain": [
       "['Akşam', 'Öğlen']\n",
       "Categories (2, object): ['Öğlen', 'Akşam']"
      ]
     },
     "execution_count": 38,
     "metadata": {},
     "output_type": "execute_result"
    }
   ],
   "source": [
    "df.zaman.unique()"
   ]
  },
  {
   "cell_type": "code",
   "execution_count": 39,
   "id": "bba84e97",
   "metadata": {},
   "outputs": [],
   "source": [
    "df[\"zaman\"] = df.zaman.map({\"Akşam\": 2, \"Öğlen\":1})"
   ]
  },
  {
   "cell_type": "code",
   "execution_count": 40,
   "id": "fd261f13",
   "metadata": {},
   "outputs": [
    {
     "data": {
      "text/html": [
       "<div>\n",
       "<style scoped>\n",
       "    .dataframe tbody tr th:only-of-type {\n",
       "        vertical-align: middle;\n",
       "    }\n",
       "\n",
       "    .dataframe tbody tr th {\n",
       "        vertical-align: top;\n",
       "    }\n",
       "\n",
       "    .dataframe thead th {\n",
       "        text-align: right;\n",
       "    }\n",
       "</style>\n",
       "<table border=\"1\" class=\"dataframe\">\n",
       "  <thead>\n",
       "    <tr style=\"text-align: right;\">\n",
       "      <th></th>\n",
       "      <th>fiyat</th>\n",
       "      <th>bahşiş</th>\n",
       "      <th>cinsiyet</th>\n",
       "      <th>sigara</th>\n",
       "      <th>gün</th>\n",
       "      <th>zaman</th>\n",
       "      <th>kişiler</th>\n",
       "    </tr>\n",
       "  </thead>\n",
       "  <tbody>\n",
       "    <tr>\n",
       "      <th>0</th>\n",
       "      <td>16.99</td>\n",
       "      <td>1.01</td>\n",
       "      <td>1</td>\n",
       "      <td>2</td>\n",
       "      <td>4</td>\n",
       "      <td>2</td>\n",
       "      <td>2</td>\n",
       "    </tr>\n",
       "    <tr>\n",
       "      <th>1</th>\n",
       "      <td>10.34</td>\n",
       "      <td>1.66</td>\n",
       "      <td>2</td>\n",
       "      <td>2</td>\n",
       "      <td>4</td>\n",
       "      <td>2</td>\n",
       "      <td>3</td>\n",
       "    </tr>\n",
       "    <tr>\n",
       "      <th>2</th>\n",
       "      <td>21.01</td>\n",
       "      <td>3.50</td>\n",
       "      <td>2</td>\n",
       "      <td>2</td>\n",
       "      <td>4</td>\n",
       "      <td>2</td>\n",
       "      <td>3</td>\n",
       "    </tr>\n",
       "    <tr>\n",
       "      <th>3</th>\n",
       "      <td>23.68</td>\n",
       "      <td>3.31</td>\n",
       "      <td>2</td>\n",
       "      <td>2</td>\n",
       "      <td>4</td>\n",
       "      <td>2</td>\n",
       "      <td>2</td>\n",
       "    </tr>\n",
       "    <tr>\n",
       "      <th>4</th>\n",
       "      <td>24.59</td>\n",
       "      <td>3.61</td>\n",
       "      <td>1</td>\n",
       "      <td>2</td>\n",
       "      <td>4</td>\n",
       "      <td>2</td>\n",
       "      <td>4</td>\n",
       "    </tr>\n",
       "  </tbody>\n",
       "</table>\n",
       "</div>"
      ],
      "text/plain": [
       "   fiyat  bahşiş cinsiyet sigara gün zaman  kişiler\n",
       "0  16.99    1.01        1      2   4     2        2\n",
       "1  10.34    1.66        2      2   4     2        3\n",
       "2  21.01    3.50        2      2   4     2        3\n",
       "3  23.68    3.31        2      2   4     2        2\n",
       "4  24.59    3.61        1      2   4     2        4"
      ]
     },
     "execution_count": 40,
     "metadata": {},
     "output_type": "execute_result"
    }
   ],
   "source": [
    "df.head()"
   ]
  },
  {
   "cell_type": "markdown",
   "id": "de19f5d8",
   "metadata": {},
   "source": [
    "# K En yakın komşu algoritması"
   ]
  },
  {
   "cell_type": "code",
   "execution_count": 41,
   "id": "aabe4d13",
   "metadata": {},
   "outputs": [],
   "source": [
    "import numpy as np\n",
    "import pandas as pd\n",
    "import seaborn as sns\n",
    "\n",
    "from sklearn.model_selection import train_test_split, GridSearchCV, cross_val_score\n",
    "from sklearn.metrics import mean_squared_error, r2_score\n",
    "\n",
    "from sklearn import model_selection\n",
    "from sklearn.neighbors import KNeighborsRegressor\n",
    "\n",
    "from warnings import filterwarnings\n",
    "filterwarnings(\"ignore\")"
   ]
  },
  {
   "cell_type": "code",
   "execution_count": 42,
   "id": "6665e4aa",
   "metadata": {},
   "outputs": [],
   "source": [
    "# Train-Test (Eğitim - Test)"
   ]
  },
  {
   "cell_type": "code",
   "execution_count": 43,
   "id": "6db7c0c9",
   "metadata": {},
   "outputs": [
    {
     "data": {
      "text/html": [
       "<div>\n",
       "<style scoped>\n",
       "    .dataframe tbody tr th:only-of-type {\n",
       "        vertical-align: middle;\n",
       "    }\n",
       "\n",
       "    .dataframe tbody tr th {\n",
       "        vertical-align: top;\n",
       "    }\n",
       "\n",
       "    .dataframe thead th {\n",
       "        text-align: right;\n",
       "    }\n",
       "</style>\n",
       "<table border=\"1\" class=\"dataframe\">\n",
       "  <thead>\n",
       "    <tr style=\"text-align: right;\">\n",
       "      <th></th>\n",
       "      <th>fiyat</th>\n",
       "      <th>bahşiş</th>\n",
       "      <th>cinsiyet</th>\n",
       "      <th>sigara</th>\n",
       "      <th>gün</th>\n",
       "      <th>zaman</th>\n",
       "      <th>kişiler</th>\n",
       "    </tr>\n",
       "  </thead>\n",
       "  <tbody>\n",
       "    <tr>\n",
       "      <th>0</th>\n",
       "      <td>16.99</td>\n",
       "      <td>1.01</td>\n",
       "      <td>1</td>\n",
       "      <td>2</td>\n",
       "      <td>4</td>\n",
       "      <td>2</td>\n",
       "      <td>2</td>\n",
       "    </tr>\n",
       "    <tr>\n",
       "      <th>1</th>\n",
       "      <td>10.34</td>\n",
       "      <td>1.66</td>\n",
       "      <td>2</td>\n",
       "      <td>2</td>\n",
       "      <td>4</td>\n",
       "      <td>2</td>\n",
       "      <td>3</td>\n",
       "    </tr>\n",
       "    <tr>\n",
       "      <th>2</th>\n",
       "      <td>21.01</td>\n",
       "      <td>3.50</td>\n",
       "      <td>2</td>\n",
       "      <td>2</td>\n",
       "      <td>4</td>\n",
       "      <td>2</td>\n",
       "      <td>3</td>\n",
       "    </tr>\n",
       "    <tr>\n",
       "      <th>3</th>\n",
       "      <td>23.68</td>\n",
       "      <td>3.31</td>\n",
       "      <td>2</td>\n",
       "      <td>2</td>\n",
       "      <td>4</td>\n",
       "      <td>2</td>\n",
       "      <td>2</td>\n",
       "    </tr>\n",
       "    <tr>\n",
       "      <th>4</th>\n",
       "      <td>24.59</td>\n",
       "      <td>3.61</td>\n",
       "      <td>1</td>\n",
       "      <td>2</td>\n",
       "      <td>4</td>\n",
       "      <td>2</td>\n",
       "      <td>4</td>\n",
       "    </tr>\n",
       "  </tbody>\n",
       "</table>\n",
       "</div>"
      ],
      "text/plain": [
       "   fiyat  bahşiş cinsiyet sigara gün zaman  kişiler\n",
       "0  16.99    1.01        1      2   4     2        2\n",
       "1  10.34    1.66        2      2   4     2        3\n",
       "2  21.01    3.50        2      2   4     2        3\n",
       "3  23.68    3.31        2      2   4     2        2\n",
       "4  24.59    3.61        1      2   4     2        4"
      ]
     },
     "execution_count": 43,
     "metadata": {},
     "output_type": "execute_result"
    }
   ],
   "source": [
    "df.head()"
   ]
  },
  {
   "cell_type": "markdown",
   "id": "d0e3cd9c",
   "metadata": {},
   "source": [
    "* Genellikle makine öğrenmesindeki bağımsız değişkenler büyük X ile gösterilir.\n"
   ]
  },
  {
   "cell_type": "markdown",
   "id": "b98aa281",
   "metadata": {},
   "source": [
    "# Bağımlı ve bağımsız değişken ayırıldı"
   ]
  },
  {
   "cell_type": "code",
   "execution_count": 44,
   "id": "4096ceda",
   "metadata": {},
   "outputs": [],
   "source": [
    "# Fiyat sütünu gitti\n",
    "X = df.drop([\"fiyat\"], axis = 1)\n",
    "y = df[\"fiyat\"]"
   ]
  },
  {
   "cell_type": "code",
   "execution_count": 45,
   "id": "f4265973",
   "metadata": {},
   "outputs": [],
   "source": [
    "#Train test metodu kullanımı\n",
    "X_train, X_test, y_train, y_test = train_test_split(X, y \n",
    "                                                   , test_size = 0.20,\n",
    "                                                   random_state = 42)"
   ]
  },
  {
   "cell_type": "code",
   "execution_count": 46,
   "id": "5128e167",
   "metadata": {},
   "outputs": [
    {
     "data": {
      "text/html": [
       "<div>\n",
       "<style scoped>\n",
       "    .dataframe tbody tr th:only-of-type {\n",
       "        vertical-align: middle;\n",
       "    }\n",
       "\n",
       "    .dataframe tbody tr th {\n",
       "        vertical-align: top;\n",
       "    }\n",
       "\n",
       "    .dataframe thead th {\n",
       "        text-align: right;\n",
       "    }\n",
       "</style>\n",
       "<table border=\"1\" class=\"dataframe\">\n",
       "  <thead>\n",
       "    <tr style=\"text-align: right;\">\n",
       "      <th></th>\n",
       "      <th>bahşiş</th>\n",
       "      <th>cinsiyet</th>\n",
       "      <th>sigara</th>\n",
       "      <th>gün</th>\n",
       "      <th>zaman</th>\n",
       "      <th>kişiler</th>\n",
       "    </tr>\n",
       "  </thead>\n",
       "  <tbody>\n",
       "    <tr>\n",
       "      <th>228</th>\n",
       "      <td>2.72</td>\n",
       "      <td>2</td>\n",
       "      <td>2</td>\n",
       "      <td>3</td>\n",
       "      <td>2</td>\n",
       "      <td>2</td>\n",
       "    </tr>\n",
       "    <tr>\n",
       "      <th>208</th>\n",
       "      <td>2.03</td>\n",
       "      <td>2</td>\n",
       "      <td>1</td>\n",
       "      <td>3</td>\n",
       "      <td>2</td>\n",
       "      <td>2</td>\n",
       "    </tr>\n",
       "    <tr>\n",
       "      <th>96</th>\n",
       "      <td>4.00</td>\n",
       "      <td>2</td>\n",
       "      <td>1</td>\n",
       "      <td>2</td>\n",
       "      <td>2</td>\n",
       "      <td>2</td>\n",
       "    </tr>\n",
       "    <tr>\n",
       "      <th>167</th>\n",
       "      <td>4.50</td>\n",
       "      <td>2</td>\n",
       "      <td>2</td>\n",
       "      <td>4</td>\n",
       "      <td>2</td>\n",
       "      <td>4</td>\n",
       "    </tr>\n",
       "    <tr>\n",
       "      <th>84</th>\n",
       "      <td>2.03</td>\n",
       "      <td>2</td>\n",
       "      <td>2</td>\n",
       "      <td>1</td>\n",
       "      <td>1</td>\n",
       "      <td>2</td>\n",
       "    </tr>\n",
       "    <tr>\n",
       "      <th>55</th>\n",
       "      <td>3.51</td>\n",
       "      <td>2</td>\n",
       "      <td>2</td>\n",
       "      <td>4</td>\n",
       "      <td>2</td>\n",
       "      <td>2</td>\n",
       "    </tr>\n",
       "    <tr>\n",
       "      <th>86</th>\n",
       "      <td>2.00</td>\n",
       "      <td>2</td>\n",
       "      <td>2</td>\n",
       "      <td>1</td>\n",
       "      <td>1</td>\n",
       "      <td>2</td>\n",
       "    </tr>\n",
       "    <tr>\n",
       "      <th>172</th>\n",
       "      <td>5.15</td>\n",
       "      <td>2</td>\n",
       "      <td>1</td>\n",
       "      <td>4</td>\n",
       "      <td>2</td>\n",
       "      <td>2</td>\n",
       "    </tr>\n",
       "    <tr>\n",
       "      <th>242</th>\n",
       "      <td>1.75</td>\n",
       "      <td>2</td>\n",
       "      <td>2</td>\n",
       "      <td>3</td>\n",
       "      <td>2</td>\n",
       "      <td>2</td>\n",
       "    </tr>\n",
       "    <tr>\n",
       "      <th>152</th>\n",
       "      <td>2.74</td>\n",
       "      <td>2</td>\n",
       "      <td>2</td>\n",
       "      <td>4</td>\n",
       "      <td>2</td>\n",
       "      <td>3</td>\n",
       "    </tr>\n",
       "  </tbody>\n",
       "</table>\n",
       "</div>"
      ],
      "text/plain": [
       "     bahşiş cinsiyet sigara gün zaman  kişiler\n",
       "228    2.72        2      2   3     2        2\n",
       "208    2.03        2      1   3     2        2\n",
       "96     4.00        2      1   2     2        2\n",
       "167    4.50        2      2   4     2        4\n",
       "84     2.03        2      2   1     1        2\n",
       "55     3.51        2      2   4     2        2\n",
       "86     2.00        2      2   1     1        2\n",
       "172    5.15        2      1   4     2        2\n",
       "242    1.75        2      2   3     2        2\n",
       "152    2.74        2      2   4     2        3"
      ]
     },
     "execution_count": 46,
     "metadata": {},
     "output_type": "execute_result"
    }
   ],
   "source": [
    "X_train[0:10]"
   ]
  },
  {
   "cell_type": "code",
   "execution_count": 47,
   "id": "f4c2912f",
   "metadata": {},
   "outputs": [
    {
     "data": {
      "text/plain": [
       "(195, 6)"
      ]
     },
     "execution_count": 47,
     "metadata": {},
     "output_type": "execute_result"
    }
   ],
   "source": [
    "X_train.shape"
   ]
  },
  {
   "cell_type": "code",
   "execution_count": 48,
   "id": "b4881bcf",
   "metadata": {},
   "outputs": [
    {
     "data": {
      "text/plain": [
       "(49, 6)"
      ]
     },
     "execution_count": 48,
     "metadata": {},
     "output_type": "execute_result"
    }
   ],
   "source": [
    "X_test.shape"
   ]
  },
  {
   "cell_type": "code",
   "execution_count": 49,
   "id": "bcf0eff6",
   "metadata": {},
   "outputs": [
    {
     "data": {
      "text/plain": [
       "(195,)"
      ]
     },
     "execution_count": 49,
     "metadata": {},
     "output_type": "execute_result"
    }
   ],
   "source": [
    "y_train.shape"
   ]
  },
  {
   "cell_type": "code",
   "execution_count": 50,
   "id": "68f95bfa",
   "metadata": {},
   "outputs": [
    {
     "data": {
      "text/plain": [
       "(49,)"
      ]
     },
     "execution_count": 50,
     "metadata": {},
     "output_type": "execute_result"
    }
   ],
   "source": [
    "y_test.shape"
   ]
  },
  {
   "cell_type": "markdown",
   "id": "af9c2caf",
   "metadata": {},
   "source": [
    "# Model Oluşturma"
   ]
  },
  {
   "cell_type": "code",
   "execution_count": 60,
   "id": "07907d30",
   "metadata": {},
   "outputs": [],
   "source": [
    "#knn_model adında KNeighborsRegressor algoritmasında 1 nesne oluşturuldu\n",
    "knn_model = KNeighborsRegressor()"
   ]
  },
  {
   "cell_type": "code",
   "execution_count": 61,
   "id": "6b417d0d",
   "metadata": {},
   "outputs": [
    {
     "data": {
      "text/plain": [
       "KNeighborsRegressor()"
      ]
     },
     "execution_count": 61,
     "metadata": {},
     "output_type": "execute_result"
    }
   ],
   "source": [
    "knn_model"
   ]
  },
  {
   "cell_type": "code",
   "execution_count": 62,
   "id": "7f1ada9a",
   "metadata": {},
   "outputs": [],
   "source": [
    "#Model eğitiliyor\n",
    "model = knn_model.fit(X_train , y_train)"
   ]
  },
  {
   "cell_type": "code",
   "execution_count": 63,
   "id": "4fc6f801",
   "metadata": {},
   "outputs": [
    {
     "data": {
      "text/plain": [
       "KNeighborsRegressor()"
      ]
     },
     "execution_count": 63,
     "metadata": {},
     "output_type": "execute_result"
    }
   ],
   "source": [
    "model"
   ]
  },
  {
   "cell_type": "code",
   "execution_count": 64,
   "id": "308f62da",
   "metadata": {},
   "outputs": [],
   "source": [
    "new_data = [[2],[1],[1],[1],[1],[2]]"
   ]
  },
  {
   "cell_type": "code",
   "execution_count": 67,
   "id": "6db4a45a",
   "metadata": {},
   "outputs": [],
   "source": [
    "new_data = pd.DataFrame(new_data).T"
   ]
  },
  {
   "cell_type": "code",
   "execution_count": 68,
   "id": "e2a494d1",
   "metadata": {},
   "outputs": [
    {
     "data": {
      "text/plain": [
       "array([13.694])"
      ]
     },
     "execution_count": 68,
     "metadata": {},
     "output_type": "execute_result"
    }
   ],
   "source": [
    "model.predict(new_data)"
   ]
  },
  {
   "cell_type": "code",
   "execution_count": 69,
   "id": "7c738ed4",
   "metadata": {},
   "outputs": [],
   "source": [
    "y_pred = model.predict(X_test)"
   ]
  },
  {
   "cell_type": "code",
   "execution_count": 70,
   "id": "d7934021",
   "metadata": {},
   "outputs": [
    {
     "data": {
      "text/plain": [
       "6.698439154164261"
      ]
     },
     "execution_count": 70,
     "metadata": {},
     "output_type": "execute_result"
    }
   ],
   "source": [
    "# Test hatası öğrenme\n",
    "np.sqrt(mean_squared_error(y_test,y_pred))"
   ]
  },
  {
   "cell_type": "code",
   "execution_count": 72,
   "id": "c6784310",
   "metadata": {},
   "outputs": [
    {
     "data": {
      "text/plain": [
       "5.122797228678278"
      ]
     },
     "execution_count": 72,
     "metadata": {},
     "output_type": "execute_result"
    }
   ],
   "source": [
    "# Eğitim hatası öğrenme\n",
    "np.sqrt(mean_squared_error(y_train, model.predict(X_train)))"
   ]
  },
  {
   "cell_type": "raw",
   "id": "e64cc7d1",
   "metadata": {},
   "source": [
    "Farklı K değerlerine göre eğitim ve test hatası bulma"
   ]
  },
  {
   "cell_type": "code",
   "execution_count": 74,
   "id": "06895084",
   "metadata": {},
   "outputs": [
    {
     "name": "stdout",
     "output_type": "stream",
     "text": [
      "k değeri =  1  hata değeri =  1.4968462572852022\n",
      "k değeri =  2  hata değeri =  4.167074959482817\n",
      "k değeri =  3  hata değeri =  4.6896942598331774\n",
      "k değeri =  4  hata değeri =  5.079752823711012\n",
      "k değeri =  5  hata değeri =  5.122797228678278\n",
      "k değeri =  6  hata değeri =  5.2772201468796505\n",
      "k değeri =  7  hata değeri =  5.445193549279551\n",
      "k değeri =  8  hata değeri =  5.470083982356986\n",
      "k değeri =  9  hata değeri =  5.6697702986099605\n",
      "k değeri =  10  hata değeri =  5.766707951682658\n",
      "k değeri =  11  hata değeri =  5.818068288883619\n",
      "k değeri =  12  hata değeri =  5.813599419964534\n",
      "k değeri =  13  hata değeri =  5.858655167374318\n",
      "k değeri =  14  hata değeri =  5.9173129703536596\n",
      "k değeri =  15  hata değeri =  5.999474977978991\n",
      "k değeri =  16  hata değeri =  6.016636113160668\n",
      "k değeri =  17  hata değeri =  6.045158835209828\n",
      "k değeri =  18  hata değeri =  6.024856869466902\n",
      "k değeri =  19  hata değeri =  6.026635165060382\n",
      "k değeri =  20  hata değeri =  6.066968984296051\n",
      "k değeri =  21  hata değeri =  6.086546376033286\n",
      "k değeri =  22  hata değeri =  6.137601638909146\n",
      "k değeri =  23  hata değeri =  6.145059253389434\n",
      "k değeri =  24  hata değeri =  6.208062725488272\n",
      "k değeri =  25  hata değeri =  6.188580453441479\n",
      "k değeri =  26  hata değeri =  6.192872135263268\n",
      "k değeri =  27  hata değeri =  6.214169195932853\n",
      "k değeri =  28  hata değeri =  6.255451996940609\n",
      "k değeri =  29  hata değeri =  6.261488858886621\n",
      "k değeri =  30  hata değeri =  6.294080761832282\n"
     ]
    }
   ],
   "source": [
    "# Eğitim hatasını bulma\n",
    "for k in range(30):\n",
    "    k=k+1\n",
    "    k_model = KNeighborsRegressor(n_neighbors=k).fit(X_train,y_train)\n",
    "    y_pred = k_model.predict(X_train)\n",
    "    hata = np.sqrt(mean_squared_error(y_train,y_pred))\n",
    "    \n",
    "    print(\"k değeri = \",k, \" hata değeri = \",hata)"
   ]
  },
  {
   "cell_type": "code",
   "execution_count": 75,
   "id": "8ea9b34e",
   "metadata": {},
   "outputs": [
    {
     "name": "stdout",
     "output_type": "stream",
     "text": [
      "k değeri =  1  hata değeri =  7.829804777715908\n",
      "k değeri =  2  hata değeri =  7.234484241803141\n",
      "k değeri =  3  hata değeri =  6.770002327863291\n",
      "k değeri =  4  hata değeri =  6.662769560346937\n",
      "k değeri =  5  hata değeri =  6.698439154164261\n",
      "k değeri =  6  hata değeri =  6.579390664740496\n",
      "k değeri =  7  hata değeri =  6.478038579698846\n",
      "k değeri =  8  hata değeri =  6.508237732787547\n",
      "k değeri =  9  hata değeri =  6.300136510856696\n",
      "k değeri =  10  hata değeri =  6.233508426730685\n",
      "k değeri =  11  hata değeri =  6.341662302236538\n",
      "k değeri =  12  hata değeri =  6.424686459478603\n",
      "k değeri =  13  hata değeri =  6.43849090525573\n",
      "k değeri =  14  hata değeri =  6.56263800751339\n",
      "k değeri =  15  hata değeri =  6.545126436020321\n",
      "k değeri =  16  hata değeri =  6.644118266066773\n",
      "k değeri =  17  hata değeri =  6.743381127164526\n",
      "k değeri =  18  hata değeri =  6.803844715772967\n",
      "k değeri =  19  hata değeri =  6.726341316858853\n",
      "k değeri =  20  hata değeri =  6.722846865316047\n",
      "k değeri =  21  hata değeri =  6.816182237735723\n",
      "k değeri =  22  hata değeri =  6.709333209860055\n",
      "k değeri =  23  hata değeri =  6.769766786817936\n",
      "k değeri =  24  hata değeri =  6.705735774400681\n",
      "k değeri =  25  hata değeri =  6.6549730528901385\n",
      "k değeri =  26  hata değeri =  6.615656446351901\n",
      "k değeri =  27  hata değeri =  6.622347523929501\n",
      "k değeri =  28  hata değeri =  6.581404981823956\n",
      "k değeri =  29  hata değeri =  6.609840000774363\n",
      "k değeri =  30  hata değeri =  6.5964438495539\n"
     ]
    }
   ],
   "source": [
    "# Test hatasını bulma\n",
    "for k in range(30):\n",
    "    k=k+1\n",
    "    k_model = KNeighborsRegressor(n_neighbors=k).fit(X_train,y_train)\n",
    "    y_pred = k_model.predict(X_test)\n",
    "    hata = np.sqrt(mean_squared_error(y_test,y_pred))\n",
    "    \n",
    "    print(\"k değeri = \",k, \" hata değeri = \",hata)"
   ]
  },
  {
   "cell_type": "markdown",
   "id": "9c162270",
   "metadata": {},
   "source": [
    "# En iyi k değerini bulma"
   ]
  },
  {
   "cell_type": "code",
   "execution_count": 76,
   "id": "d9d07abc",
   "metadata": {},
   "outputs": [],
   "source": [
    "knn_value = {\"n_neighbors\": np.arange(1,30,1)}"
   ]
  },
  {
   "cell_type": "code",
   "execution_count": 77,
   "id": "41267bf5",
   "metadata": {},
   "outputs": [],
   "source": [
    "knn = KNeighborsRegressor()"
   ]
  },
  {
   "cell_type": "code",
   "execution_count": 78,
   "id": "a1cba067",
   "metadata": {},
   "outputs": [],
   "source": [
    "knn_cv_model = GridSearchCV(knn, knn_value, cv=10)"
   ]
  },
  {
   "cell_type": "code",
   "execution_count": 79,
   "id": "0df0531c",
   "metadata": {},
   "outputs": [
    {
     "data": {
      "text/plain": [
       "GridSearchCV(cv=10, estimator=KNeighborsRegressor(),\n",
       "             param_grid={'n_neighbors': array([ 1,  2,  3,  4,  5,  6,  7,  8,  9, 10, 11, 12, 13, 14, 15, 16, 17,\n",
       "       18, 19, 20, 21, 22, 23, 24, 25, 26, 27, 28, 29])})"
      ]
     },
     "execution_count": 79,
     "metadata": {},
     "output_type": "execute_result"
    }
   ],
   "source": [
    "knn_cv_model.fit(X_train, y_train)"
   ]
  },
  {
   "cell_type": "code",
   "execution_count": 80,
   "id": "f6cfe3ef",
   "metadata": {},
   "outputs": [
    {
     "data": {
      "text/plain": [
       "{'n_neighbors': 6}"
      ]
     },
     "execution_count": 80,
     "metadata": {},
     "output_type": "execute_result"
    }
   ],
   "source": [
    "knn_cv_model.best_params_"
   ]
  },
  {
   "cell_type": "markdown",
   "id": "c25dcd93",
   "metadata": {},
   "source": [
    "# Model Geliştirme"
   ]
  },
  {
   "cell_type": "code",
   "execution_count": 81,
   "id": "a0088744",
   "metadata": {},
   "outputs": [],
   "source": [
    "model = KNeighborsRegressor(n_neighbors=6)"
   ]
  },
  {
   "cell_type": "code",
   "execution_count": 82,
   "id": "c4ee06a6",
   "metadata": {},
   "outputs": [],
   "source": [
    "model_knn = model.fit(X_train,y_train)"
   ]
  },
  {
   "cell_type": "code",
   "execution_count": 83,
   "id": "3688814f",
   "metadata": {},
   "outputs": [
    {
     "data": {
      "text/plain": [
       "KNeighborsRegressor(n_neighbors=6)"
      ]
     },
     "execution_count": 83,
     "metadata": {},
     "output_type": "execute_result"
    }
   ],
   "source": [
    "model_knn "
   ]
  },
  {
   "cell_type": "code",
   "execution_count": 84,
   "id": "88ca5e96",
   "metadata": {},
   "outputs": [
    {
     "data": {
      "text/plain": [
       "array([13.14666667])"
      ]
     },
     "execution_count": 84,
     "metadata": {},
     "output_type": "execute_result"
    }
   ],
   "source": [
    "model_knn.predict(new_data)"
   ]
  },
  {
   "cell_type": "code",
   "execution_count": 87,
   "id": "4693e8bd",
   "metadata": {},
   "outputs": [],
   "source": [
    "y_pred = model.predict(X_test)"
   ]
  },
  {
   "cell_type": "code",
   "execution_count": 86,
   "id": "99e42cc8",
   "metadata": {},
   "outputs": [
    {
     "data": {
      "text/plain": [
       "24     19.82\n",
       "6       8.77\n",
       "153    24.55\n",
       "211    25.89\n",
       "198    13.00\n",
       "176    17.89\n",
       "192    28.44\n",
       "124    12.48\n",
       "9      14.78\n",
       "101    15.38\n",
       "Name: fiyat, dtype: float64"
      ]
     },
     "execution_count": 86,
     "metadata": {},
     "output_type": "execute_result"
    }
   ],
   "source": [
    "y_test[0:10]"
   ]
  },
  {
   "cell_type": "code",
   "execution_count": 89,
   "id": "f59a1e8e",
   "metadata": {},
   "outputs": [],
   "source": [
    "t_d = pd.DataFrame({\"y_test\": y_test,\n",
    "              \"tahmin edilen değerler\": y_pred})"
   ]
  },
  {
   "cell_type": "code",
   "execution_count": 91,
   "id": "9fd2affe",
   "metadata": {},
   "outputs": [],
   "source": [
    "t_d[\"fark\"] = t_d[\"y_test\"] - t_d[\"tahmin edilen değerler\"]"
   ]
  },
  {
   "cell_type": "code",
   "execution_count": 92,
   "id": "f54ea2ad",
   "metadata": {},
   "outputs": [
    {
     "data": {
      "text/html": [
       "<div>\n",
       "<style scoped>\n",
       "    .dataframe tbody tr th:only-of-type {\n",
       "        vertical-align: middle;\n",
       "    }\n",
       "\n",
       "    .dataframe tbody tr th {\n",
       "        vertical-align: top;\n",
       "    }\n",
       "\n",
       "    .dataframe thead th {\n",
       "        text-align: right;\n",
       "    }\n",
       "</style>\n",
       "<table border=\"1\" class=\"dataframe\">\n",
       "  <thead>\n",
       "    <tr style=\"text-align: right;\">\n",
       "      <th></th>\n",
       "      <th>y_test</th>\n",
       "      <th>tahmin edilen değerler</th>\n",
       "      <th>fark</th>\n",
       "    </tr>\n",
       "  </thead>\n",
       "  <tbody>\n",
       "    <tr>\n",
       "      <th>24</th>\n",
       "      <td>19.82</td>\n",
       "      <td>15.471667</td>\n",
       "      <td>4.348333</td>\n",
       "    </tr>\n",
       "    <tr>\n",
       "      <th>6</th>\n",
       "      <td>8.77</td>\n",
       "      <td>14.683333</td>\n",
       "      <td>-5.913333</td>\n",
       "    </tr>\n",
       "    <tr>\n",
       "      <th>153</th>\n",
       "      <td>24.55</td>\n",
       "      <td>20.386667</td>\n",
       "      <td>4.163333</td>\n",
       "    </tr>\n",
       "    <tr>\n",
       "      <th>211</th>\n",
       "      <td>25.89</td>\n",
       "      <td>29.225000</td>\n",
       "      <td>-3.335000</td>\n",
       "    </tr>\n",
       "    <tr>\n",
       "      <th>198</th>\n",
       "      <td>13.00</td>\n",
       "      <td>13.146667</td>\n",
       "      <td>-0.146667</td>\n",
       "    </tr>\n",
       "    <tr>\n",
       "      <th>176</th>\n",
       "      <td>17.89</td>\n",
       "      <td>18.001667</td>\n",
       "      <td>-0.111667</td>\n",
       "    </tr>\n",
       "    <tr>\n",
       "      <th>192</th>\n",
       "      <td>28.44</td>\n",
       "      <td>15.848333</td>\n",
       "      <td>12.591667</td>\n",
       "    </tr>\n",
       "    <tr>\n",
       "      <th>124</th>\n",
       "      <td>12.48</td>\n",
       "      <td>14.136667</td>\n",
       "      <td>-1.656667</td>\n",
       "    </tr>\n",
       "    <tr>\n",
       "      <th>9</th>\n",
       "      <td>14.78</td>\n",
       "      <td>17.545000</td>\n",
       "      <td>-2.765000</td>\n",
       "    </tr>\n",
       "    <tr>\n",
       "      <th>101</th>\n",
       "      <td>15.38</td>\n",
       "      <td>22.176667</td>\n",
       "      <td>-6.796667</td>\n",
       "    </tr>\n",
       "    <tr>\n",
       "      <th>45</th>\n",
       "      <td>18.29</td>\n",
       "      <td>16.641667</td>\n",
       "      <td>1.648333</td>\n",
       "    </tr>\n",
       "    <tr>\n",
       "      <th>233</th>\n",
       "      <td>10.77</td>\n",
       "      <td>14.366667</td>\n",
       "      <td>-3.596667</td>\n",
       "    </tr>\n",
       "    <tr>\n",
       "      <th>117</th>\n",
       "      <td>10.65</td>\n",
       "      <td>10.958333</td>\n",
       "      <td>-0.308333</td>\n",
       "    </tr>\n",
       "    <tr>\n",
       "      <th>177</th>\n",
       "      <td>14.48</td>\n",
       "      <td>18.001667</td>\n",
       "      <td>-3.521667</td>\n",
       "    </tr>\n",
       "    <tr>\n",
       "      <th>82</th>\n",
       "      <td>10.07</td>\n",
       "      <td>12.328333</td>\n",
       "      <td>-2.258333</td>\n",
       "    </tr>\n",
       "    <tr>\n",
       "      <th>146</th>\n",
       "      <td>18.64</td>\n",
       "      <td>10.958333</td>\n",
       "      <td>7.681667</td>\n",
       "    </tr>\n",
       "    <tr>\n",
       "      <th>200</th>\n",
       "      <td>18.71</td>\n",
       "      <td>21.956667</td>\n",
       "      <td>-3.246667</td>\n",
       "    </tr>\n",
       "    <tr>\n",
       "      <th>15</th>\n",
       "      <td>21.58</td>\n",
       "      <td>18.315000</td>\n",
       "      <td>3.265000</td>\n",
       "    </tr>\n",
       "    <tr>\n",
       "      <th>66</th>\n",
       "      <td>16.45</td>\n",
       "      <td>18.651667</td>\n",
       "      <td>-2.201667</td>\n",
       "    </tr>\n",
       "    <tr>\n",
       "      <th>142</th>\n",
       "      <td>41.19</td>\n",
       "      <td>28.951667</td>\n",
       "      <td>12.238333</td>\n",
       "    </tr>\n",
       "    <tr>\n",
       "      <th>33</th>\n",
       "      <td>20.69</td>\n",
       "      <td>24.540000</td>\n",
       "      <td>-3.850000</td>\n",
       "    </tr>\n",
       "    <tr>\n",
       "      <th>19</th>\n",
       "      <td>20.65</td>\n",
       "      <td>19.618333</td>\n",
       "      <td>1.031667</td>\n",
       "    </tr>\n",
       "    <tr>\n",
       "      <th>109</th>\n",
       "      <td>14.31</td>\n",
       "      <td>20.916667</td>\n",
       "      <td>-6.606667</td>\n",
       "    </tr>\n",
       "    <tr>\n",
       "      <th>30</th>\n",
       "      <td>9.55</td>\n",
       "      <td>14.366667</td>\n",
       "      <td>-4.816667</td>\n",
       "    </tr>\n",
       "    <tr>\n",
       "      <th>186</th>\n",
       "      <td>20.90</td>\n",
       "      <td>23.236667</td>\n",
       "      <td>-2.336667</td>\n",
       "    </tr>\n",
       "    <tr>\n",
       "      <th>120</th>\n",
       "      <td>11.69</td>\n",
       "      <td>14.003333</td>\n",
       "      <td>-2.313333</td>\n",
       "    </tr>\n",
       "    <tr>\n",
       "      <th>10</th>\n",
       "      <td>10.27</td>\n",
       "      <td>12.836667</td>\n",
       "      <td>-2.566667</td>\n",
       "    </tr>\n",
       "    <tr>\n",
       "      <th>73</th>\n",
       "      <td>25.28</td>\n",
       "      <td>16.631667</td>\n",
       "      <td>8.648333</td>\n",
       "    </tr>\n",
       "    <tr>\n",
       "      <th>159</th>\n",
       "      <td>16.49</td>\n",
       "      <td>20.386667</td>\n",
       "      <td>-3.896667</td>\n",
       "    </tr>\n",
       "    <tr>\n",
       "      <th>156</th>\n",
       "      <td>48.17</td>\n",
       "      <td>27.978333</td>\n",
       "      <td>20.191667</td>\n",
       "    </tr>\n",
       "    <tr>\n",
       "      <th>112</th>\n",
       "      <td>38.07</td>\n",
       "      <td>22.698333</td>\n",
       "      <td>15.371667</td>\n",
       "    </tr>\n",
       "    <tr>\n",
       "      <th>218</th>\n",
       "      <td>7.74</td>\n",
       "      <td>15.773333</td>\n",
       "      <td>-8.033333</td>\n",
       "    </tr>\n",
       "    <tr>\n",
       "      <th>25</th>\n",
       "      <td>17.81</td>\n",
       "      <td>19.368333</td>\n",
       "      <td>-1.558333</td>\n",
       "    </tr>\n",
       "    <tr>\n",
       "      <th>60</th>\n",
       "      <td>20.29</td>\n",
       "      <td>19.896667</td>\n",
       "      <td>0.393333</td>\n",
       "    </tr>\n",
       "    <tr>\n",
       "      <th>18</th>\n",
       "      <td>16.97</td>\n",
       "      <td>21.881667</td>\n",
       "      <td>-4.911667</td>\n",
       "    </tr>\n",
       "    <tr>\n",
       "      <th>119</th>\n",
       "      <td>24.08</td>\n",
       "      <td>20.545000</td>\n",
       "      <td>3.535000</td>\n",
       "    </tr>\n",
       "    <tr>\n",
       "      <th>97</th>\n",
       "      <td>12.03</td>\n",
       "      <td>16.150000</td>\n",
       "      <td>-4.120000</td>\n",
       "    </tr>\n",
       "    <tr>\n",
       "      <th>197</th>\n",
       "      <td>43.11</td>\n",
       "      <td>26.501667</td>\n",
       "      <td>16.608333</td>\n",
       "    </tr>\n",
       "    <tr>\n",
       "      <th>139</th>\n",
       "      <td>13.16</td>\n",
       "      <td>15.283333</td>\n",
       "      <td>-2.123333</td>\n",
       "    </tr>\n",
       "    <tr>\n",
       "      <th>241</th>\n",
       "      <td>22.67</td>\n",
       "      <td>15.118333</td>\n",
       "      <td>7.551667</td>\n",
       "    </tr>\n",
       "    <tr>\n",
       "      <th>75</th>\n",
       "      <td>10.51</td>\n",
       "      <td>14.366667</td>\n",
       "      <td>-3.856667</td>\n",
       "    </tr>\n",
       "    <tr>\n",
       "      <th>127</th>\n",
       "      <td>14.52</td>\n",
       "      <td>12.830000</td>\n",
       "      <td>1.690000</td>\n",
       "    </tr>\n",
       "    <tr>\n",
       "      <th>113</th>\n",
       "      <td>23.95</td>\n",
       "      <td>15.921667</td>\n",
       "      <td>8.028333</td>\n",
       "    </tr>\n",
       "    <tr>\n",
       "      <th>16</th>\n",
       "      <td>10.33</td>\n",
       "      <td>15.961667</td>\n",
       "      <td>-5.631667</td>\n",
       "    </tr>\n",
       "    <tr>\n",
       "      <th>196</th>\n",
       "      <td>10.34</td>\n",
       "      <td>13.580000</td>\n",
       "      <td>-3.240000</td>\n",
       "    </tr>\n",
       "    <tr>\n",
       "      <th>67</th>\n",
       "      <td>3.07</td>\n",
       "      <td>12.718333</td>\n",
       "      <td>-9.648333</td>\n",
       "    </tr>\n",
       "    <tr>\n",
       "      <th>168</th>\n",
       "      <td>10.59</td>\n",
       "      <td>15.350000</td>\n",
       "      <td>-4.760000</td>\n",
       "    </tr>\n",
       "    <tr>\n",
       "      <th>38</th>\n",
       "      <td>18.69</td>\n",
       "      <td>19.486667</td>\n",
       "      <td>-0.796667</td>\n",
       "    </tr>\n",
       "    <tr>\n",
       "      <th>195</th>\n",
       "      <td>7.56</td>\n",
       "      <td>12.311667</td>\n",
       "      <td>-4.751667</td>\n",
       "    </tr>\n",
       "  </tbody>\n",
       "</table>\n",
       "</div>"
      ],
      "text/plain": [
       "     y_test  tahmin edilen değerler       fark\n",
       "24    19.82               15.471667   4.348333\n",
       "6      8.77               14.683333  -5.913333\n",
       "153   24.55               20.386667   4.163333\n",
       "211   25.89               29.225000  -3.335000\n",
       "198   13.00               13.146667  -0.146667\n",
       "176   17.89               18.001667  -0.111667\n",
       "192   28.44               15.848333  12.591667\n",
       "124   12.48               14.136667  -1.656667\n",
       "9     14.78               17.545000  -2.765000\n",
       "101   15.38               22.176667  -6.796667\n",
       "45    18.29               16.641667   1.648333\n",
       "233   10.77               14.366667  -3.596667\n",
       "117   10.65               10.958333  -0.308333\n",
       "177   14.48               18.001667  -3.521667\n",
       "82    10.07               12.328333  -2.258333\n",
       "146   18.64               10.958333   7.681667\n",
       "200   18.71               21.956667  -3.246667\n",
       "15    21.58               18.315000   3.265000\n",
       "66    16.45               18.651667  -2.201667\n",
       "142   41.19               28.951667  12.238333\n",
       "33    20.69               24.540000  -3.850000\n",
       "19    20.65               19.618333   1.031667\n",
       "109   14.31               20.916667  -6.606667\n",
       "30     9.55               14.366667  -4.816667\n",
       "186   20.90               23.236667  -2.336667\n",
       "120   11.69               14.003333  -2.313333\n",
       "10    10.27               12.836667  -2.566667\n",
       "73    25.28               16.631667   8.648333\n",
       "159   16.49               20.386667  -3.896667\n",
       "156   48.17               27.978333  20.191667\n",
       "112   38.07               22.698333  15.371667\n",
       "218    7.74               15.773333  -8.033333\n",
       "25    17.81               19.368333  -1.558333\n",
       "60    20.29               19.896667   0.393333\n",
       "18    16.97               21.881667  -4.911667\n",
       "119   24.08               20.545000   3.535000\n",
       "97    12.03               16.150000  -4.120000\n",
       "197   43.11               26.501667  16.608333\n",
       "139   13.16               15.283333  -2.123333\n",
       "241   22.67               15.118333   7.551667\n",
       "75    10.51               14.366667  -3.856667\n",
       "127   14.52               12.830000   1.690000\n",
       "113   23.95               15.921667   8.028333\n",
       "16    10.33               15.961667  -5.631667\n",
       "196   10.34               13.580000  -3.240000\n",
       "67     3.07               12.718333  -9.648333\n",
       "168   10.59               15.350000  -4.760000\n",
       "38    18.69               19.486667  -0.796667\n",
       "195    7.56               12.311667  -4.751667"
      ]
     },
     "execution_count": 92,
     "metadata": {},
     "output_type": "execute_result"
    }
   ],
   "source": [
    "t_d"
   ]
  },
  {
   "cell_type": "code",
   "execution_count": 93,
   "id": "f2552aa9",
   "metadata": {},
   "outputs": [
    {
     "data": {
      "text/plain": [
       "27.849052478632476"
      ]
     },
     "execution_count": 93,
     "metadata": {},
     "output_type": "execute_result"
    }
   ],
   "source": [
    "mean_squared_error(y_train,model_knn.predict(X_train))"
   ]
  },
  {
   "cell_type": "code",
   "execution_count": 94,
   "id": "37ca9b87",
   "metadata": {},
   "outputs": [
    {
     "data": {
      "text/plain": [
       "5.2772201468796505"
      ]
     },
     "execution_count": 94,
     "metadata": {},
     "output_type": "execute_result"
    }
   ],
   "source": [
    "np.sqrt(mean_squared_error(y_train,model_knn.predict(X_train)))"
   ]
  },
  {
   "cell_type": "code",
   "execution_count": 95,
   "id": "5656f851",
   "metadata": {},
   "outputs": [
    {
     "data": {
      "text/plain": [
       "array([-30.00266833, -35.84496792, -34.15963361, -27.45854167,\n",
       "       -31.02289583, -48.17054444, -53.21256477, -46.19987427,\n",
       "       -31.42275863, -60.76819254])"
      ]
     },
     "execution_count": 95,
     "metadata": {},
     "output_type": "execute_result"
    }
   ],
   "source": [
    "cross_val_score(model_knn, X_train, y_train, cv=10, scoring=\"neg_mean_squared_error\")"
   ]
  },
  {
   "cell_type": "code",
   "execution_count": 97,
   "id": "a7631132",
   "metadata": {},
   "outputs": [
    {
     "data": {
      "text/plain": [
       "array([30.00266833, 35.84496792, 34.15963361, 27.45854167, 31.02289583,\n",
       "       48.17054444, 53.21256477, 46.19987427, 31.42275863, 60.76819254])"
      ]
     },
     "execution_count": 97,
     "metadata": {},
     "output_type": "execute_result"
    }
   ],
   "source": [
    "-1 * cross_val_score(model_knn, X_train, y_train, cv=10, scoring=\"neg_mean_squared_error\")"
   ]
  },
  {
   "cell_type": "code",
   "execution_count": 98,
   "id": "065e43c8",
   "metadata": {},
   "outputs": [
    {
     "data": {
      "text/plain": [
       "array([5.47746915, 5.98706672, 5.84462433, 5.24008985, 5.56982009,\n",
       "       6.9405003 , 7.29469429, 6.79704894, 5.60560065, 7.7953956 ])"
      ]
     },
     "execution_count": 98,
     "metadata": {},
     "output_type": "execute_result"
    }
   ],
   "source": [
    "np.sqrt(-1 * cross_val_score(model_knn, X_train, y_train, cv=10, scoring=\"neg_mean_squared_error\"))"
   ]
  },
  {
   "cell_type": "code",
   "execution_count": 99,
   "id": "ef642b05",
   "metadata": {},
   "outputs": [
    {
     "data": {
      "text/plain": [
       "6.255230992802162"
      ]
     },
     "execution_count": 99,
     "metadata": {},
     "output_type": "execute_result"
    }
   ],
   "source": [
    "np.sqrt(-1 * cross_val_score(model_knn, X_train, y_train, cv=10, scoring=\"neg_mean_squared_error\")).mean()"
   ]
  },
  {
   "cell_type": "code",
   "execution_count": null,
   "id": "d6bdc483",
   "metadata": {},
   "outputs": [],
   "source": []
  }
 ],
 "metadata": {
  "kernelspec": {
   "display_name": "Python 3 (ipykernel)",
   "language": "python",
   "name": "python3"
  },
  "language_info": {
   "codemirror_mode": {
    "name": "ipython",
    "version": 3
   },
   "file_extension": ".py",
   "mimetype": "text/x-python",
   "name": "python",
   "nbconvert_exporter": "python",
   "pygments_lexer": "ipython3",
   "version": "3.9.13"
  }
 },
 "nbformat": 4,
 "nbformat_minor": 5
}
